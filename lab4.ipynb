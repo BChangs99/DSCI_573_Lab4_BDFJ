{
 "cells": [
  {
   "cell_type": "code",
   "execution_count": 26,
   "metadata": {
    "deletable": false,
    "editable": false
   },
   "outputs": [],
   "source": [
    "# Initialize Otter\n",
    "import otter\n",
    "grader = otter.Notebook(\"lab4.ipynb\")"
   ]
  },
  {
   "cell_type": "code",
   "execution_count": 27,
   "metadata": {},
   "outputs": [],
   "source": [
    "# Run command for helper functions\n",
    "%run -i ./helpers/helper_functions.py"
   ]
  },
  {
   "cell_type": "code",
   "execution_count": 28,
   "metadata": {},
   "outputs": [
    {
     "data": {
      "text/plain": [
       "DataTransformerRegistry.enable('vegafusion')"
      ]
     },
     "execution_count": 28,
     "metadata": {},
     "output_type": "execute_result"
    }
   ],
   "source": [
    "import pandas as pd\n",
    "import numpy as np\n",
    "from sklearn.preprocessing import StandardScaler, OneHotEncoder\n",
    "from sklearn.compose import make_column_transformer\n",
    "from sklearn.pipeline import make_pipeline\n",
    "from sklearn.impute import SimpleImputer\n",
    "from sklearn.model_selection import train_test_split\n",
    "from sklearn.dummy import DummyRegressor\n",
    "from sklearn.linear_model import Ridge, RidgeCV\n",
    "from sklearn.preprocessing import PolynomialFeatures \n",
    "from sklearn.feature_selection import RFECV\n",
    "\n",
    "import nltk \n",
    "from nltk.sentiment.vader import SentimentIntensityAnalyzer\n",
    "\n",
    "import altair as alt\n",
    "import altair_ally as aly\n",
    "\n",
    "alt.data_transformers.enable(\"vegafusion\")\n"
   ]
  },
  {
   "cell_type": "markdown",
   "metadata": {},
   "source": [
    "# Lab 4: Putting it all together in a mini project\n",
    "\n",
    "For this lab, **you can choose to work alone of in a group of up to four students**. You are in charge of how you want to work and who you want to work with. Maybe you really want to go through all the steps of the ML process yourself or maybe you want to practice your collaboration skills, it is up to you! Just remember to indicate who your group members are (if any) when you submit on Gradescope. If you choose to work in a group, you only need to use one GitHub repo (you can create one on github.ubc.ca and set the visibility to \"public\"). If it takes a prohibitively long time to run any of the steps on your laptop, it is OK if you sample the data to reduce the runtime, just make sure you write a note about this."
   ]
  },
  {
   "cell_type": "markdown",
   "metadata": {
    "deletable": false,
    "editable": false
   },
   "source": [
    "<!-- BEGIN QUESTION -->\n",
    "\n",
    "<div class=\"alert alert-info\">\n",
    "\n",
    "## Submission instructions\n",
    "rubric={mechanics}\n",
    "\n",
    "<p>You receive marks for submitting your lab correctly, please follow these instructions:</p>\n",
    "\n",
    "<ul>\n",
    "  <li><a href=\"https://ubc-mds.github.io/resources_pages/general_lab_instructions/\">\n",
    "      Follow the general lab instructions.</a></li>\n",
    "  <li><a href=\"https://github.com/UBC-MDS/public/tree/master/rubric\">\n",
    "      Click here to view a description of the rubrics used to grade the questions</a></li>\n",
    "  <li>Make at least three commits.</li>\n",
    "  <li>Push your <code>.ipynb</code> file to your GitHub repository for this lab and upload it to Gradescope.</li>\n",
    "    <ul>\n",
    "      <li>Before submitting, make sure you restart the kernel and rerun all cells.</li>\n",
    "    </ul>\n",
    "  <li>Also upload a <code>.pdf</code> export of the notebook to facilitate grading of manual questions (preferably WebPDF, you can select two files when uploading to gradescope)</li>\n",
    "  <li>Don't change any variable names that are given to you, don't move cells around, and don't include any code to install packages in the notebook.</li>\n",
    "  <li>The data you download for this lab <b>SHOULD NOT BE PUSHED TO YOUR REPOSITORY</b> (there is also a <code>.gitignore</code> in the repo to prevent this).</li>\n",
    "  <li>Include a clickable link to your GitHub repo for the lab just below this cell\n",
    "    <ul>\n",
    "      <li>It should look something like this https://github.ubc.ca/MDS-2020-21/DSCI_531_labX_yourcwl.</li>\n",
    "    </ul>\n",
    "  </li>\n",
    "</ul>\n",
    "</div>\n",
    "\n",
    "_Points:_ 2"
   ]
  },
  {
   "cell_type": "markdown",
   "metadata": {},
   "source": [
    "[TEAM BDFJ GitHub URL](https://github.ubc.ca/mds-2024-25/DSCI_573_Lab4_BDFJ)"
   ]
  },
  {
   "cell_type": "markdown",
   "metadata": {
    "deletable": false,
    "editable": false
   },
   "source": [
    "<!-- END QUESTION -->\n",
    "\n",
    "## Introduction <a name=\"in\"></a>\n",
    "\n",
    "In this lab you will be working on an open-ended mini-project, where you will put all the different things you have learned so far in 571 and 573 together to solve an interesting problem.\n",
    "\n",
    "A few notes and tips when you work on this mini-project: \n",
    "\n",
    "#### Tips\n",
    "1. Since this mini-project is open-ended there might be some situations where you'll have to use your own judgment and make your own decisions (as you would be doing when you work as a data scientist). Make sure you explain your decisions whenever necessary. \n",
    "2. **Do not include everything you ever tried in your submission** -- it's fine just to have your final code. That said, your code should be reproducible and well-documented. For example, if you chose your hyperparameters based on some hyperparameter optimization experiment, you should leave in the code for that experiment so that someone else could re-run it and obtain the same hyperparameters, rather than mysteriously just setting the hyperparameters to some (carefully chosen) values in your code. \n",
    "3. If you realize that you are repeating a lot of code try to organize it in functions. Clear presentation of your code, experiments, and results is the key to be successful in this lab. You may use code from lecture notes or previous lab solutions with appropriate attributions. \n",
    "\n",
    "#### Assessment\n",
    "We don't have some secret target score that you need to achieve to get a good grade. **You'll be assessed on demonstration of mastery of course topics, clear presentation, and the quality of your analysis and results.** For example, if you just have a bunch of code and no text or figures, that's not good. If you instead do a bunch of sane things and you have clearly motivated your choices, but still get lower model performance than your friend, don't sweat it.\n",
    "\n",
    "\n",
    "#### A final note\n",
    "Finally, the style of this \"project\" question is different from other assignments. It'll be up to you to decide when you're \"done\" -- in fact, this is one of the hardest parts of real projects. But please don't spend WAY too much time on this... perhaps \"several hours\" but not \"many hours\" is a good guideline for a high quality submission. Of course if you're having fun you're welcome to spend as much time as you want! But, if so, try not to do it out of perfectionism or getting the best possible grade. Do it because you're learning and enjoying it. Students from the past cohorts have found such kind of labs useful and fun and we hope you enjoy it as well. "
   ]
  },
  {
   "cell_type": "markdown",
   "metadata": {
    "deletable": false,
    "editable": false
   },
   "source": [
    "<!-- BEGIN QUESTION -->\n",
    "\n",
    "<div class=\"alert alert-info\">\n",
    "\n",
    "## 1. Pick your problem and explain the prediction problem <a name=\"1\"></a>\n",
    "rubric={reasoning}\n",
    "\n",
    "In this mini project, you will pick one of the following problems: \n",
    "\n",
    "1. A classification problem of predicting whether a credit card client will default or not. For this problem, you will use [Default of Credit Card Clients Dataset](https://www.kaggle.com/uciml/default-of-credit-card-clients-dataset). In this data set, there are 30,000 examples and 24 features, and the goal is to estimate whether a person will default (fail to pay) their credit card bills; this column is labeled \"default.payment.next.month\" in the data. The rest of the columns can be used as features. You may take some ideas and compare your results with [the associated research paper](https://www.sciencedirect.com/science/article/pii/S0957417407006719), which is available through [the UBC library](https://www.library.ubc.ca/). \n",
    "\n",
    "OR \n",
    "\n",
    "2. A regression problem of predicting `reviews_per_month`, as a proxy for the popularity of the listing with [New York City Airbnb listings from 2019 dataset](https://www.kaggle.com/dgomonov/new-york-city-airbnb-open-data). Airbnb could use this sort of model to predict how popular future listings might be before they are posted, perhaps to help guide hosts create more appealing listings. In reality they might instead use something like vacancy rate or average rating as their target, but we do not have that available here.\n",
    "\n",
    "**Your tasks:**\n",
    "\n",
    "1. Spend some time understanding the problem and what each feature means. Write a few sentences on your initial thoughts on the problem and the dataset. \n",
    "2. Download the dataset and read it as a pandas dataframe. \n",
    "3. Carry out any preliminary preprocessing, if needed (e.g., changing feature names, handling of NaN values etc.)\n",
    "    \n",
    "</div>\n",
    "\n",
    "_Points:_ 3"
   ]
  },
  {
   "cell_type": "markdown",
   "metadata": {},
   "source": [
    "_Type your answer here, replacing this text._"
   ]
  },
  {
   "cell_type": "code",
   "execution_count": 29,
   "metadata": {
    "tags": []
   },
   "outputs": [
    {
     "data": {
      "text/html": [
       "<div>\n",
       "<style scoped>\n",
       "    .dataframe tbody tr th:only-of-type {\n",
       "        vertical-align: middle;\n",
       "    }\n",
       "\n",
       "    .dataframe tbody tr th {\n",
       "        vertical-align: top;\n",
       "    }\n",
       "\n",
       "    .dataframe thead th {\n",
       "        text-align: right;\n",
       "    }\n",
       "</style>\n",
       "<table border=\"1\" class=\"dataframe\">\n",
       "  <thead>\n",
       "    <tr style=\"text-align: right;\">\n",
       "      <th></th>\n",
       "      <th>id</th>\n",
       "      <th>name</th>\n",
       "      <th>host_id</th>\n",
       "      <th>host_name</th>\n",
       "      <th>neighbourhood_group</th>\n",
       "      <th>neighbourhood</th>\n",
       "      <th>latitude</th>\n",
       "      <th>longitude</th>\n",
       "      <th>room_type</th>\n",
       "      <th>price</th>\n",
       "      <th>minimum_nights</th>\n",
       "      <th>number_of_reviews</th>\n",
       "      <th>last_review</th>\n",
       "      <th>reviews_per_month</th>\n",
       "      <th>calculated_host_listings_count</th>\n",
       "      <th>availability_365</th>\n",
       "    </tr>\n",
       "  </thead>\n",
       "  <tbody>\n",
       "    <tr>\n",
       "      <th>0</th>\n",
       "      <td>2539</td>\n",
       "      <td>Clean &amp; quiet apt home by the park</td>\n",
       "      <td>2787</td>\n",
       "      <td>John</td>\n",
       "      <td>Brooklyn</td>\n",
       "      <td>Kensington</td>\n",
       "      <td>40.64749</td>\n",
       "      <td>-73.97237</td>\n",
       "      <td>Private room</td>\n",
       "      <td>149</td>\n",
       "      <td>1</td>\n",
       "      <td>9</td>\n",
       "      <td>2018-10-19</td>\n",
       "      <td>0.21</td>\n",
       "      <td>6</td>\n",
       "      <td>365</td>\n",
       "    </tr>\n",
       "    <tr>\n",
       "      <th>1</th>\n",
       "      <td>2595</td>\n",
       "      <td>Skylit Midtown Castle</td>\n",
       "      <td>2845</td>\n",
       "      <td>Jennifer</td>\n",
       "      <td>Manhattan</td>\n",
       "      <td>Midtown</td>\n",
       "      <td>40.75362</td>\n",
       "      <td>-73.98377</td>\n",
       "      <td>Entire home/apt</td>\n",
       "      <td>225</td>\n",
       "      <td>1</td>\n",
       "      <td>45</td>\n",
       "      <td>2019-05-21</td>\n",
       "      <td>0.38</td>\n",
       "      <td>2</td>\n",
       "      <td>355</td>\n",
       "    </tr>\n",
       "    <tr>\n",
       "      <th>2</th>\n",
       "      <td>3647</td>\n",
       "      <td>THE VILLAGE OF HARLEM....NEW YORK !</td>\n",
       "      <td>4632</td>\n",
       "      <td>Elisabeth</td>\n",
       "      <td>Manhattan</td>\n",
       "      <td>Harlem</td>\n",
       "      <td>40.80902</td>\n",
       "      <td>-73.94190</td>\n",
       "      <td>Private room</td>\n",
       "      <td>150</td>\n",
       "      <td>3</td>\n",
       "      <td>0</td>\n",
       "      <td>NaN</td>\n",
       "      <td>NaN</td>\n",
       "      <td>1</td>\n",
       "      <td>365</td>\n",
       "    </tr>\n",
       "    <tr>\n",
       "      <th>3</th>\n",
       "      <td>3831</td>\n",
       "      <td>Cozy Entire Floor of Brownstone</td>\n",
       "      <td>4869</td>\n",
       "      <td>LisaRoxanne</td>\n",
       "      <td>Brooklyn</td>\n",
       "      <td>Clinton Hill</td>\n",
       "      <td>40.68514</td>\n",
       "      <td>-73.95976</td>\n",
       "      <td>Entire home/apt</td>\n",
       "      <td>89</td>\n",
       "      <td>1</td>\n",
       "      <td>270</td>\n",
       "      <td>2019-07-05</td>\n",
       "      <td>4.64</td>\n",
       "      <td>1</td>\n",
       "      <td>194</td>\n",
       "    </tr>\n",
       "    <tr>\n",
       "      <th>4</th>\n",
       "      <td>5022</td>\n",
       "      <td>Entire Apt: Spacious Studio/Loft by central park</td>\n",
       "      <td>7192</td>\n",
       "      <td>Laura</td>\n",
       "      <td>Manhattan</td>\n",
       "      <td>East Harlem</td>\n",
       "      <td>40.79851</td>\n",
       "      <td>-73.94399</td>\n",
       "      <td>Entire home/apt</td>\n",
       "      <td>80</td>\n",
       "      <td>10</td>\n",
       "      <td>9</td>\n",
       "      <td>2018-11-19</td>\n",
       "      <td>0.10</td>\n",
       "      <td>1</td>\n",
       "      <td>0</td>\n",
       "    </tr>\n",
       "  </tbody>\n",
       "</table>\n",
       "</div>"
      ],
      "text/plain": [
       "     id                                              name  host_id  \\\n",
       "0  2539                Clean & quiet apt home by the park     2787   \n",
       "1  2595                             Skylit Midtown Castle     2845   \n",
       "2  3647               THE VILLAGE OF HARLEM....NEW YORK !     4632   \n",
       "3  3831                   Cozy Entire Floor of Brownstone     4869   \n",
       "4  5022  Entire Apt: Spacious Studio/Loft by central park     7192   \n",
       "\n",
       "     host_name neighbourhood_group neighbourhood  latitude  longitude  \\\n",
       "0         John            Brooklyn    Kensington  40.64749  -73.97237   \n",
       "1     Jennifer           Manhattan       Midtown  40.75362  -73.98377   \n",
       "2    Elisabeth           Manhattan        Harlem  40.80902  -73.94190   \n",
       "3  LisaRoxanne            Brooklyn  Clinton Hill  40.68514  -73.95976   \n",
       "4        Laura           Manhattan   East Harlem  40.79851  -73.94399   \n",
       "\n",
       "         room_type  price  minimum_nights  number_of_reviews last_review  \\\n",
       "0     Private room    149               1                  9  2018-10-19   \n",
       "1  Entire home/apt    225               1                 45  2019-05-21   \n",
       "2     Private room    150               3                  0         NaN   \n",
       "3  Entire home/apt     89               1                270  2019-07-05   \n",
       "4  Entire home/apt     80              10                  9  2018-11-19   \n",
       "\n",
       "   reviews_per_month  calculated_host_listings_count  availability_365  \n",
       "0               0.21                               6               365  \n",
       "1               0.38                               2               355  \n",
       "2                NaN                               1               365  \n",
       "3               4.64                               1               194  \n",
       "4               0.10                               1                 0  "
      ]
     },
     "execution_count": 29,
     "metadata": {},
     "output_type": "execute_result"
    }
   ],
   "source": [
    "data = pd.read_csv('./data/raw/AB_NYC_2019.csv')\n",
    "data.head()"
   ]
  },
  {
   "cell_type": "markdown",
   "metadata": {
    "deletable": false,
    "editable": false
   },
   "source": [
    "<!-- END QUESTION -->\n",
    "\n",
    "<!-- BEGIN QUESTION -->\n",
    "\n",
    "<div class=\"alert alert-info\">\n",
    "\n",
    "## 2. Data splitting <a name=\"2\"></a>\n",
    "rubric={reasoning}\n",
    "\n",
    "**Your tasks:**\n",
    "\n",
    "1. Split the data into train and test portions.\n",
    "\n",
    "> Make the decision on the `test_size` based on the capacity of your laptop. \n",
    "    \n",
    "</div>\n",
    "\n",
    "_Points:_ 1"
   ]
  },
  {
   "cell_type": "code",
   "execution_count": 30,
   "metadata": {
    "tags": []
   },
   "outputs": [],
   "source": [
    "# Checking if all null target values is because the number of reviews is 0\n",
    "data[(data['number_of_reviews'] != 0) & (data['reviews_per_month'].isnull())]\n",
    "\n",
    "# Fix target null values to be 0 when number of reviews is 0.\n",
    "data['reviews_per_month'] = data['reviews_per_month'].apply(lambda x: 0 if pd.isna(x) else x)\n",
    "\n",
    "train_df, test_df = train_test_split(data, random_state=573)"
   ]
  },
  {
   "cell_type": "markdown",
   "metadata": {
    "deletable": false,
    "editable": false
   },
   "source": [
    "<!-- END QUESTION -->\n",
    "\n",
    "<!-- BEGIN QUESTION -->\n",
    "\n",
    "<div class=\"alert alert-info\">\n",
    "\n",
    "## 3. EDA <a name=\"3\"></a>\n",
    "rubric={viz,reasoning}\n",
    "    \n",
    "Perform exploratory data analysis on the train set.\n",
    "\n",
    "**Your tasks:**\n",
    "\n",
    "1. Include at least two summary statistics and two visualizations that you find useful, and accompany each one with a sentence explaining it.\n",
    "2. Summarize your initial observations about the data. \n",
    "3. Pick appropriate metric/metrics for assessment. \n",
    "    \n",
    "</div>\n",
    "\n",
    "_Points:_ 6"
   ]
  },
  {
   "cell_type": "markdown",
   "metadata": {},
   "source": [
    "_Type your answer here, replacing this text._"
   ]
  },
  {
   "cell_type": "code",
   "execution_count": 31,
   "metadata": {
    "tags": []
   },
   "outputs": [
    {
     "data": {
      "text/html": [
       "<div>\n",
       "<style scoped>\n",
       "    .dataframe tbody tr th:only-of-type {\n",
       "        vertical-align: middle;\n",
       "    }\n",
       "\n",
       "    .dataframe tbody tr th {\n",
       "        vertical-align: top;\n",
       "    }\n",
       "\n",
       "    .dataframe thead th {\n",
       "        text-align: right;\n",
       "    }\n",
       "</style>\n",
       "<table border=\"1\" class=\"dataframe\">\n",
       "  <thead>\n",
       "    <tr style=\"text-align: right;\">\n",
       "      <th></th>\n",
       "      <th>id</th>\n",
       "      <th>name</th>\n",
       "      <th>host_id</th>\n",
       "      <th>host_name</th>\n",
       "      <th>neighbourhood_group</th>\n",
       "      <th>neighbourhood</th>\n",
       "      <th>latitude</th>\n",
       "      <th>longitude</th>\n",
       "      <th>room_type</th>\n",
       "      <th>price</th>\n",
       "      <th>minimum_nights</th>\n",
       "      <th>number_of_reviews</th>\n",
       "      <th>last_review</th>\n",
       "      <th>reviews_per_month</th>\n",
       "      <th>calculated_host_listings_count</th>\n",
       "      <th>availability_365</th>\n",
       "    </tr>\n",
       "  </thead>\n",
       "  <tbody>\n",
       "    <tr>\n",
       "      <th>4888</th>\n",
       "      <td>3495686</td>\n",
       "      <td>Lofted Murray Hill 1-bedroom w/ spiral staircase</td>\n",
       "      <td>721833</td>\n",
       "      <td>Joshua</td>\n",
       "      <td>Manhattan</td>\n",
       "      <td>Kips Bay</td>\n",
       "      <td>40.74593</td>\n",
       "      <td>-73.97915</td>\n",
       "      <td>Entire home/apt</td>\n",
       "      <td>184</td>\n",
       "      <td>3</td>\n",
       "      <td>0</td>\n",
       "      <td>NaN</td>\n",
       "      <td>0.00</td>\n",
       "      <td>1</td>\n",
       "      <td>0</td>\n",
       "    </tr>\n",
       "    <tr>\n",
       "      <th>42318</th>\n",
       "      <td>32843454</td>\n",
       "      <td>Cute, Vintage Studio on UES Close to Express Q</td>\n",
       "      <td>247072396</td>\n",
       "      <td>Andrea</td>\n",
       "      <td>Manhattan</td>\n",
       "      <td>Upper East Side</td>\n",
       "      <td>40.77085</td>\n",
       "      <td>-73.94933</td>\n",
       "      <td>Entire home/apt</td>\n",
       "      <td>250</td>\n",
       "      <td>2</td>\n",
       "      <td>1</td>\n",
       "      <td>2019-04-21</td>\n",
       "      <td>0.38</td>\n",
       "      <td>1</td>\n",
       "      <td>0</td>\n",
       "    </tr>\n",
       "    <tr>\n",
       "      <th>30859</th>\n",
       "      <td>23896110</td>\n",
       "      <td>Charming one bedroom / West village</td>\n",
       "      <td>175315624</td>\n",
       "      <td>Shelby</td>\n",
       "      <td>Manhattan</td>\n",
       "      <td>West Village</td>\n",
       "      <td>40.73170</td>\n",
       "      <td>-74.00708</td>\n",
       "      <td>Entire home/apt</td>\n",
       "      <td>163</td>\n",
       "      <td>7</td>\n",
       "      <td>7</td>\n",
       "      <td>2018-07-18</td>\n",
       "      <td>0.48</td>\n",
       "      <td>1</td>\n",
       "      <td>0</td>\n",
       "    </tr>\n",
       "    <tr>\n",
       "      <th>38670</th>\n",
       "      <td>30379843</td>\n",
       "      <td>Your NY home for Quality time , Fully Equipped !</td>\n",
       "      <td>148725429</td>\n",
       "      <td>Javier</td>\n",
       "      <td>Brooklyn</td>\n",
       "      <td>Bushwick</td>\n",
       "      <td>40.69231</td>\n",
       "      <td>-73.92567</td>\n",
       "      <td>Entire home/apt</td>\n",
       "      <td>90</td>\n",
       "      <td>3</td>\n",
       "      <td>58</td>\n",
       "      <td>2019-07-07</td>\n",
       "      <td>7.91</td>\n",
       "      <td>2</td>\n",
       "      <td>2</td>\n",
       "    </tr>\n",
       "    <tr>\n",
       "      <th>40083</th>\n",
       "      <td>31119351</td>\n",
       "      <td>Beautiful Brooklyn Home</td>\n",
       "      <td>2557889</td>\n",
       "      <td>Serena</td>\n",
       "      <td>Brooklyn</td>\n",
       "      <td>Bushwick</td>\n",
       "      <td>40.70267</td>\n",
       "      <td>-73.92751</td>\n",
       "      <td>Private room</td>\n",
       "      <td>55</td>\n",
       "      <td>2</td>\n",
       "      <td>16</td>\n",
       "      <td>2019-05-13</td>\n",
       "      <td>2.57</td>\n",
       "      <td>1</td>\n",
       "      <td>2</td>\n",
       "    </tr>\n",
       "  </tbody>\n",
       "</table>\n",
       "</div>"
      ],
      "text/plain": [
       "             id                                              name    host_id  \\\n",
       "4888    3495686  Lofted Murray Hill 1-bedroom w/ spiral staircase     721833   \n",
       "42318  32843454    Cute, Vintage Studio on UES Close to Express Q  247072396   \n",
       "30859  23896110               Charming one bedroom / West village  175315624   \n",
       "38670  30379843  Your NY home for Quality time , Fully Equipped !  148725429   \n",
       "40083  31119351                           Beautiful Brooklyn Home    2557889   \n",
       "\n",
       "      host_name neighbourhood_group    neighbourhood  latitude  longitude  \\\n",
       "4888     Joshua           Manhattan         Kips Bay  40.74593  -73.97915   \n",
       "42318    Andrea           Manhattan  Upper East Side  40.77085  -73.94933   \n",
       "30859    Shelby           Manhattan     West Village  40.73170  -74.00708   \n",
       "38670    Javier            Brooklyn         Bushwick  40.69231  -73.92567   \n",
       "40083    Serena            Brooklyn         Bushwick  40.70267  -73.92751   \n",
       "\n",
       "             room_type  price  minimum_nights  number_of_reviews last_review  \\\n",
       "4888   Entire home/apt    184               3                  0         NaN   \n",
       "42318  Entire home/apt    250               2                  1  2019-04-21   \n",
       "30859  Entire home/apt    163               7                  7  2018-07-18   \n",
       "38670  Entire home/apt     90               3                 58  2019-07-07   \n",
       "40083     Private room     55               2                 16  2019-05-13   \n",
       "\n",
       "       reviews_per_month  calculated_host_listings_count  availability_365  \n",
       "4888                0.00                               1                 0  \n",
       "42318               0.38                               1                 0  \n",
       "30859               0.48                               1                 0  \n",
       "38670               7.91                               2                 2  \n",
       "40083               2.57                               1                 2  "
      ]
     },
     "execution_count": 31,
     "metadata": {},
     "output_type": "execute_result"
    }
   ],
   "source": [
    "train_df.head()"
   ]
  },
  {
   "cell_type": "code",
   "execution_count": 32,
   "metadata": {
    "tags": []
   },
   "outputs": [
    {
     "data": {
      "text/html": [
       "<div>\n",
       "<style scoped>\n",
       "    .dataframe tbody tr th:only-of-type {\n",
       "        vertical-align: middle;\n",
       "    }\n",
       "\n",
       "    .dataframe tbody tr th {\n",
       "        vertical-align: top;\n",
       "    }\n",
       "\n",
       "    .dataframe thead th {\n",
       "        text-align: right;\n",
       "    }\n",
       "</style>\n",
       "<table border=\"1\" class=\"dataframe\">\n",
       "  <thead>\n",
       "    <tr style=\"text-align: right;\">\n",
       "      <th></th>\n",
       "      <th>id</th>\n",
       "      <th>host_id</th>\n",
       "      <th>latitude</th>\n",
       "      <th>longitude</th>\n",
       "      <th>price</th>\n",
       "      <th>minimum_nights</th>\n",
       "      <th>number_of_reviews</th>\n",
       "      <th>reviews_per_month</th>\n",
       "      <th>calculated_host_listings_count</th>\n",
       "      <th>availability_365</th>\n",
       "    </tr>\n",
       "  </thead>\n",
       "  <tbody>\n",
       "    <tr>\n",
       "      <th>count</th>\n",
       "      <td>3.667100e+04</td>\n",
       "      <td>3.667100e+04</td>\n",
       "      <td>36671.000000</td>\n",
       "      <td>36671.000000</td>\n",
       "      <td>36671.000000</td>\n",
       "      <td>36671.000000</td>\n",
       "      <td>36671.000000</td>\n",
       "      <td>36671.000000</td>\n",
       "      <td>36671.000000</td>\n",
       "      <td>36671.000000</td>\n",
       "    </tr>\n",
       "    <tr>\n",
       "      <th>mean</th>\n",
       "      <td>1.901858e+07</td>\n",
       "      <td>6.753485e+07</td>\n",
       "      <td>40.728871</td>\n",
       "      <td>-73.952174</td>\n",
       "      <td>153.009408</td>\n",
       "      <td>7.017398</td>\n",
       "      <td>23.086990</td>\n",
       "      <td>1.086294</td>\n",
       "      <td>7.155109</td>\n",
       "      <td>112.255897</td>\n",
       "    </tr>\n",
       "    <tr>\n",
       "      <th>std</th>\n",
       "      <td>1.099541e+07</td>\n",
       "      <td>7.862213e+07</td>\n",
       "      <td>0.054648</td>\n",
       "      <td>0.046113</td>\n",
       "      <td>247.269517</td>\n",
       "      <td>20.734663</td>\n",
       "      <td>44.304601</td>\n",
       "      <td>1.593990</td>\n",
       "      <td>33.242306</td>\n",
       "      <td>131.558583</td>\n",
       "    </tr>\n",
       "    <tr>\n",
       "      <th>min</th>\n",
       "      <td>3.647000e+03</td>\n",
       "      <td>2.438000e+03</td>\n",
       "      <td>40.499790</td>\n",
       "      <td>-74.244420</td>\n",
       "      <td>0.000000</td>\n",
       "      <td>1.000000</td>\n",
       "      <td>0.000000</td>\n",
       "      <td>0.000000</td>\n",
       "      <td>1.000000</td>\n",
       "      <td>0.000000</td>\n",
       "    </tr>\n",
       "    <tr>\n",
       "      <th>25%</th>\n",
       "      <td>9.453066e+06</td>\n",
       "      <td>7.848642e+06</td>\n",
       "      <td>40.689930</td>\n",
       "      <td>-73.983090</td>\n",
       "      <td>69.000000</td>\n",
       "      <td>1.000000</td>\n",
       "      <td>1.000000</td>\n",
       "      <td>0.040000</td>\n",
       "      <td>1.000000</td>\n",
       "      <td>0.000000</td>\n",
       "    </tr>\n",
       "    <tr>\n",
       "      <th>50%</th>\n",
       "      <td>1.968643e+07</td>\n",
       "      <td>3.091859e+07</td>\n",
       "      <td>40.722830</td>\n",
       "      <td>-73.955680</td>\n",
       "      <td>105.000000</td>\n",
       "      <td>2.000000</td>\n",
       "      <td>5.000000</td>\n",
       "      <td>0.370000</td>\n",
       "      <td>1.000000</td>\n",
       "      <td>44.000000</td>\n",
       "    </tr>\n",
       "    <tr>\n",
       "      <th>75%</th>\n",
       "      <td>2.917369e+07</td>\n",
       "      <td>1.074344e+08</td>\n",
       "      <td>40.763125</td>\n",
       "      <td>-73.936160</td>\n",
       "      <td>175.000000</td>\n",
       "      <td>5.000000</td>\n",
       "      <td>23.000000</td>\n",
       "      <td>1.570000</td>\n",
       "      <td>2.000000</td>\n",
       "      <td>225.000000</td>\n",
       "    </tr>\n",
       "    <tr>\n",
       "      <th>max</th>\n",
       "      <td>3.648543e+07</td>\n",
       "      <td>2.743213e+08</td>\n",
       "      <td>40.912340</td>\n",
       "      <td>-73.712990</td>\n",
       "      <td>10000.000000</td>\n",
       "      <td>1250.000000</td>\n",
       "      <td>629.000000</td>\n",
       "      <td>58.500000</td>\n",
       "      <td>327.000000</td>\n",
       "      <td>365.000000</td>\n",
       "    </tr>\n",
       "  </tbody>\n",
       "</table>\n",
       "</div>"
      ],
      "text/plain": [
       "                 id       host_id      latitude     longitude         price  \\\n",
       "count  3.667100e+04  3.667100e+04  36671.000000  36671.000000  36671.000000   \n",
       "mean   1.901858e+07  6.753485e+07     40.728871    -73.952174    153.009408   \n",
       "std    1.099541e+07  7.862213e+07      0.054648      0.046113    247.269517   \n",
       "min    3.647000e+03  2.438000e+03     40.499790    -74.244420      0.000000   \n",
       "25%    9.453066e+06  7.848642e+06     40.689930    -73.983090     69.000000   \n",
       "50%    1.968643e+07  3.091859e+07     40.722830    -73.955680    105.000000   \n",
       "75%    2.917369e+07  1.074344e+08     40.763125    -73.936160    175.000000   \n",
       "max    3.648543e+07  2.743213e+08     40.912340    -73.712990  10000.000000   \n",
       "\n",
       "       minimum_nights  number_of_reviews  reviews_per_month  \\\n",
       "count    36671.000000       36671.000000       36671.000000   \n",
       "mean         7.017398          23.086990           1.086294   \n",
       "std         20.734663          44.304601           1.593990   \n",
       "min          1.000000           0.000000           0.000000   \n",
       "25%          1.000000           1.000000           0.040000   \n",
       "50%          2.000000           5.000000           0.370000   \n",
       "75%          5.000000          23.000000           1.570000   \n",
       "max       1250.000000         629.000000          58.500000   \n",
       "\n",
       "       calculated_host_listings_count  availability_365  \n",
       "count                    36671.000000      36671.000000  \n",
       "mean                         7.155109        112.255897  \n",
       "std                         33.242306        131.558583  \n",
       "min                          1.000000          0.000000  \n",
       "25%                          1.000000          0.000000  \n",
       "50%                          1.000000         44.000000  \n",
       "75%                          2.000000        225.000000  \n",
       "max                        327.000000        365.000000  "
      ]
     },
     "execution_count": 32,
     "metadata": {},
     "output_type": "execute_result"
    }
   ],
   "source": [
    "train_df.describe()"
   ]
  },
  {
   "cell_type": "code",
   "execution_count": 33,
   "metadata": {
    "tags": []
   },
   "outputs": [
    {
     "name": "stdout",
     "output_type": "stream",
     "text": [
      "<class 'pandas.core.frame.DataFrame'>\n",
      "Index: 36671 entries, 4888 to 9822\n",
      "Data columns (total 16 columns):\n",
      " #   Column                          Non-Null Count  Dtype  \n",
      "---  ------                          --------------  -----  \n",
      " 0   id                              36671 non-null  int64  \n",
      " 1   name                            36658 non-null  object \n",
      " 2   host_id                         36671 non-null  int64  \n",
      " 3   host_name                       36656 non-null  object \n",
      " 4   neighbourhood_group             36671 non-null  object \n",
      " 5   neighbourhood                   36671 non-null  object \n",
      " 6   latitude                        36671 non-null  float64\n",
      " 7   longitude                       36671 non-null  float64\n",
      " 8   room_type                       36671 non-null  object \n",
      " 9   price                           36671 non-null  int64  \n",
      " 10  minimum_nights                  36671 non-null  int64  \n",
      " 11  number_of_reviews               36671 non-null  int64  \n",
      " 12  last_review                     29187 non-null  object \n",
      " 13  reviews_per_month               36671 non-null  float64\n",
      " 14  calculated_host_listings_count  36671 non-null  int64  \n",
      " 15  availability_365                36671 non-null  int64  \n",
      "dtypes: float64(3), int64(7), object(6)\n",
      "memory usage: 4.8+ MB\n"
     ]
    }
   ],
   "source": [
    "train_df.info()"
   ]
  },
  {
   "cell_type": "code",
   "execution_count": 34,
   "metadata": {
    "tags": []
   },
   "outputs": [
    {
     "data": {
      "text/html": [
       "\n",
       "<style>\n",
       "  #altair-viz-93b9cd8830944c5bb237723dd376f168.vega-embed {\n",
       "    width: 100%;\n",
       "    display: flex;\n",
       "  }\n",
       "\n",
       "  #altair-viz-93b9cd8830944c5bb237723dd376f168.vega-embed details,\n",
       "  #altair-viz-93b9cd8830944c5bb237723dd376f168.vega-embed details summary {\n",
       "    position: relative;\n",
       "  }\n",
       "</style>\n",
       "<div id=\"altair-viz-93b9cd8830944c5bb237723dd376f168\"></div>\n",
       "<script type=\"text/javascript\">\n",
       "  var VEGA_DEBUG = (typeof VEGA_DEBUG == \"undefined\") ? {} : VEGA_DEBUG;\n",
       "  (function(spec, embedOpt){\n",
       "    let outputDiv = document.currentScript.previousElementSibling;\n",
       "    if (outputDiv.id !== \"altair-viz-93b9cd8830944c5bb237723dd376f168\") {\n",
       "      outputDiv = document.getElementById(\"altair-viz-93b9cd8830944c5bb237723dd376f168\");\n",
       "    }\n",
       "    const paths = {\n",
       "      \"vega\": \"https://cdn.jsdelivr.net/npm/vega@5?noext\",\n",
       "      \"vega-lib\": \"https://cdn.jsdelivr.net/npm/vega-lib?noext\",\n",
       "      \"vega-lite\": \"https://cdn.jsdelivr.net/npm/vega-lite@5.20.1?noext\",\n",
       "      \"vega-embed\": \"https://cdn.jsdelivr.net/npm/vega-embed@6?noext\",\n",
       "    };\n",
       "\n",
       "    function maybeLoadScript(lib, version) {\n",
       "      var key = `${lib.replace(\"-\", \"\")}_version`;\n",
       "      return (VEGA_DEBUG[key] == version) ?\n",
       "        Promise.resolve(paths[lib]) :\n",
       "        new Promise(function(resolve, reject) {\n",
       "          var s = document.createElement('script');\n",
       "          document.getElementsByTagName(\"head\")[0].appendChild(s);\n",
       "          s.async = true;\n",
       "          s.onload = () => {\n",
       "            VEGA_DEBUG[key] = version;\n",
       "            return resolve(paths[lib]);\n",
       "          };\n",
       "          s.onerror = () => reject(`Error loading script: ${paths[lib]}`);\n",
       "          s.src = paths[lib];\n",
       "        });\n",
       "    }\n",
       "\n",
       "    function showError(err) {\n",
       "      outputDiv.innerHTML = `<div class=\"error\" style=\"color:red;\">${err}</div>`;\n",
       "      throw err;\n",
       "    }\n",
       "\n",
       "    function displayChart(vegaEmbed) {\n",
       "      vegaEmbed(outputDiv, spec, embedOpt)\n",
       "        .catch(err => showError(`Javascript Error: ${err.message}<br>This usually means there's a typo in your chart specification. See the javascript console for the full traceback.`));\n",
       "    }\n",
       "\n",
       "    if(typeof define === \"function\" && define.amd) {\n",
       "      requirejs.config({paths});\n",
       "      require([\"vega-embed\"], displayChart, err => showError(`Error loading script: ${err.message}`));\n",
       "    } else {\n",
       "      maybeLoadScript(\"vega\", \"5\")\n",
       "        .then(() => maybeLoadScript(\"vega-lite\", \"5.20.1\"))\n",
       "        .then(() => maybeLoadScript(\"vega-embed\", \"6\"))\n",
       "        .catch(showError)\n",
       "        .then(() => displayChart(vegaEmbed));\n",
       "    }\n",
       "  })({\"$schema\": \"https://vega.github.io/schema/vega/v5.json\", \"data\": [{\"name\": \"source_0\"}, {\"name\": \"data_0\", \"values\": [{\"__count\": 48822, \"bin_maxbins_10_minimum_nights\": 0.0, \"bin_maxbins_10_minimum_nights_end\": 200.0}, {\"__count\": 61, \"bin_maxbins_10_minimum_nights\": 200.0, \"bin_maxbins_10_minimum_nights_end\": 400.0}, {\"__count\": 1, \"bin_maxbins_10_minimum_nights\": 1000.0, \"bin_maxbins_10_minimum_nights_end\": 1200.0}, {\"__count\": 1, \"bin_maxbins_10_minimum_nights\": 1200.0, \"bin_maxbins_10_minimum_nights_end\": 1400.0}, {\"__count\": 7, \"bin_maxbins_10_minimum_nights\": 400.0, \"bin_maxbins_10_minimum_nights_end\": 600.0}, {\"__count\": 3, \"bin_maxbins_10_minimum_nights\": 800.0, \"bin_maxbins_10_minimum_nights_end\": 1000.0}]}, {\"name\": \"data_1\", \"values\": [{\"__count\": 48597, \"bin_maxbins_10_price\": 0.0, \"bin_maxbins_10_price_end\": 1000.0}, {\"__count\": 57, \"bin_maxbins_10_price\": 2000.0, \"bin_maxbins_10_price_end\": 3000.0}, {\"__count\": 188, \"bin_maxbins_10_price\": 1000.0, \"bin_maxbins_10_price_end\": 2000.0}, {\"__count\": 18, \"bin_maxbins_10_price\": 3000.0, \"bin_maxbins_10_price_end\": 4000.0}, {\"__count\": 9, \"bin_maxbins_10_price\": 4000.0, \"bin_maxbins_10_price_end\": 5000.0}, {\"__count\": 8, \"bin_maxbins_10_price\": 5000.0, \"bin_maxbins_10_price_end\": 6000.0}, {\"__count\": 7, \"bin_maxbins_10_price\": 6000.0, \"bin_maxbins_10_price_end\": 7000.0}, {\"__count\": 2, \"bin_maxbins_10_price\": 8000.0, \"bin_maxbins_10_price_end\": 9000.0}, {\"__count\": 6, \"bin_maxbins_10_price\": 9000.0, \"bin_maxbins_10_price_end\": 10000.0}, {\"__count\": 3, \"bin_maxbins_10_price\": 7000.0, \"bin_maxbins_10_price_end\": 8000.0}]}, {\"name\": \"data_2\", \"values\": [{\"__count\": 3428, \"bin_maxbins_10_availability_365\": 350.0, \"bin_maxbins_10_availability_365_end\": 400.0}, {\"__count\": 3483, \"bin_maxbins_10_availability_365\": 150.0, \"bin_maxbins_10_availability_365_end\": 200.0}, {\"__count\": 24838, \"bin_maxbins_10_availability_365\": 0.0, \"bin_maxbins_10_availability_365_end\": 50.0}, {\"__count\": 2311, \"bin_maxbins_10_availability_365\": 100.0, \"bin_maxbins_10_availability_365_end\": 150.0}, {\"__count\": 2303, \"bin_maxbins_10_availability_365\": 200.0, \"bin_maxbins_10_availability_365_end\": 250.0}, {\"__count\": 4739, \"bin_maxbins_10_availability_365\": 300.0, \"bin_maxbins_10_availability_365_end\": 350.0}, {\"__count\": 4895, \"bin_maxbins_10_availability_365\": 50.0, \"bin_maxbins_10_availability_365_end\": 100.0}, {\"__count\": 2898, \"bin_maxbins_10_availability_365\": 250.0, \"bin_maxbins_10_availability_365_end\": 300.0}]}, {\"name\": \"data_3\", \"values\": [{\"__count\": 45851, \"bin_maxbins_10_number_of_reviews\": 0.0, \"bin_maxbins_10_number_of_reviews_end\": 100.0}, {\"__count\": 514, \"bin_maxbins_10_number_of_reviews\": 200.0, \"bin_maxbins_10_number_of_reviews_end\": 300.0}, {\"__count\": 31, \"bin_maxbins_10_number_of_reviews\": 400.0, \"bin_maxbins_10_number_of_reviews_end\": 500.0}, {\"__count\": 2398, \"bin_maxbins_10_number_of_reviews\": 100.0, \"bin_maxbins_10_number_of_reviews_end\": 200.0}, {\"__count\": 93, \"bin_maxbins_10_number_of_reviews\": 300.0, \"bin_maxbins_10_number_of_reviews_end\": 400.0}, {\"__count\": 6, \"bin_maxbins_10_number_of_reviews\": 500.0, \"bin_maxbins_10_number_of_reviews_end\": 600.0}, {\"__count\": 2, \"bin_maxbins_10_number_of_reviews\": 600.0, \"bin_maxbins_10_number_of_reviews_end\": 700.0}]}, {\"name\": \"data_1_child__column_price_y_domain___count\", \"values\": [{\"min\": 2, \"max\": 48597}]}, {\"name\": \"data_2_child__column_availability_365_y_domain___count\", \"values\": [{\"min\": 2303, \"max\": 24838}]}, {\"name\": \"data_3_child__column_number_of_reviews_y_domain___count\", \"values\": [{\"min\": 2, \"max\": 45851}]}, {\"name\": \"data_0_child__column_minimum_nights_y_domain___count\", \"values\": [{\"min\": 1, \"max\": 48822}]}], \"signals\": [{\"name\": \"child__column_price_bin_maxbins_10_price_bins\", \"value\": {\"fields\": [\"price\"], \"fname\": \"bin_price\", \"start\": 0.0, \"step\": 1000.0, \"stop\": 10000.0}}, {\"name\": \"child__column_number_of_reviews_bin_maxbins_10_number_of_reviews_bins\", \"value\": {\"fields\": [\"number_of_reviews\"], \"fname\": \"bin_number_of_reviews\", \"start\": 0.0, \"step\": 100.0, \"stop\": 700.0}}, {\"name\": \"child__column_minimum_nights_bin_maxbins_10_minimum_nights_bins\", \"value\": {\"fields\": [\"minimum_nights\"], \"fname\": \"bin_minimum_nights\", \"start\": 0.0, \"step\": 200.0, \"stop\": 1400.0}}, {\"name\": \"child__column_availability_365_bin_maxbins_10_availability_365_bins\", \"value\": {\"fields\": [\"availability_365\"], \"fname\": \"bin_availability_365\", \"start\": 0.0, \"step\": 50.0, \"stop\": 400.0}}, {\"name\": \"childWidth\", \"value\": 300}, {\"name\": \"childHeight\", \"value\": 300}], \"marks\": [{\"type\": \"group\", \"name\": \"child__column_price_group\", \"encode\": {\"update\": {\"width\": {\"signal\": \"childWidth\"}, \"height\": {\"signal\": \"childHeight\"}}}, \"marks\": [{\"type\": \"rect\", \"name\": \"child__column_price_marks\", \"from\": {\"data\": \"data_1\"}, \"encode\": {\"update\": {\"x\": {\"field\": \"bin_maxbins_10_price_end\", \"scale\": \"child__column_price_x\", \"offset\": {\"signal\": \"0.5 + (abs(scale(\\\"child__column_price_x\\\", datum[\\\"bin_maxbins_10_price_end\\\"]) - scale(\\\"child__column_price_x\\\", datum[\\\"bin_maxbins_10_price\\\"])) < 0.25 ? 0.5 * (0.25 - (abs(scale(\\\"child__column_price_x\\\", datum[\\\"bin_maxbins_10_price_end\\\"]) - scale(\\\"child__column_price_x\\\", datum[\\\"bin_maxbins_10_price\\\"])))) : -0.5)\"}}, \"x2\": {\"field\": \"bin_maxbins_10_price\", \"scale\": \"child__column_price_x\", \"offset\": {\"signal\": \"0.5 + (abs(scale(\\\"child__column_price_x\\\", datum[\\\"bin_maxbins_10_price_end\\\"]) - scale(\\\"child__column_price_x\\\", datum[\\\"bin_maxbins_10_price\\\"])) < 0.25 ? -0.5 * (0.25 - (abs(scale(\\\"child__column_price_x\\\", datum[\\\"bin_maxbins_10_price_end\\\"]) - scale(\\\"child__column_price_x\\\", datum[\\\"bin_maxbins_10_price\\\"])))) : 0.5)\"}}, \"y\": {\"field\": \"__count\", \"scale\": \"child__column_price_y\"}, \"y2\": {\"value\": 0, \"scale\": \"child__column_price_y\"}, \"fill\": {\"value\": \"#4c78a8\"}}}, \"style\": [\"bar\"]}], \"axes\": [{\"scale\": \"child__column_price_y\", \"minExtent\": 0, \"maxExtent\": 0, \"orient\": \"left\", \"labels\": false, \"aria\": false, \"domain\": false, \"grid\": true, \"tickCount\": {\"signal\": \"ceil(childHeight/40)\"}, \"zindex\": 0, \"gridScale\": \"child__column_price_x\", \"ticks\": false}, {\"scale\": \"child__column_price_x\", \"grid\": false, \"title\": \"price (binned)\", \"labelOverlap\": true, \"zindex\": 0, \"tickCount\": {\"signal\": \"ceil(childWidth/10)\"}, \"labelFlush\": true, \"orient\": \"bottom\"}, {\"scale\": \"child__column_price_y\", \"labelOverlap\": true, \"zindex\": 0, \"tickCount\": {\"signal\": \"ceil(childHeight/40)\"}, \"grid\": false, \"orient\": \"left\", \"title\": \"Count of Records\"}], \"style\": \"cell\"}, {\"type\": \"group\", \"name\": \"child__column_availability_365_group\", \"encode\": {\"update\": {\"width\": {\"signal\": \"childWidth\"}, \"height\": {\"signal\": \"childHeight\"}}}, \"marks\": [{\"type\": \"rect\", \"name\": \"child__column_availability_365_marks\", \"from\": {\"data\": \"data_2\"}, \"encode\": {\"update\": {\"x2\": {\"field\": \"bin_maxbins_10_availability_365\", \"scale\": \"child__column_availability_365_x\", \"offset\": {\"signal\": \"0.5 + (abs(scale(\\\"child__column_availability_365_x\\\", datum[\\\"bin_maxbins_10_availability_365_end\\\"]) - scale(\\\"child__column_availability_365_x\\\", datum[\\\"bin_maxbins_10_availability_365\\\"])) < 0.25 ? -0.5 * (0.25 - (abs(scale(\\\"child__column_availability_365_x\\\", datum[\\\"bin_maxbins_10_availability_365_end\\\"]) - scale(\\\"child__column_availability_365_x\\\", datum[\\\"bin_maxbins_10_availability_365\\\"])))) : 0.5)\"}}, \"x\": {\"field\": \"bin_maxbins_10_availability_365_end\", \"scale\": \"child__column_availability_365_x\", \"offset\": {\"signal\": \"0.5 + (abs(scale(\\\"child__column_availability_365_x\\\", datum[\\\"bin_maxbins_10_availability_365_end\\\"]) - scale(\\\"child__column_availability_365_x\\\", datum[\\\"bin_maxbins_10_availability_365\\\"])) < 0.25 ? 0.5 * (0.25 - (abs(scale(\\\"child__column_availability_365_x\\\", datum[\\\"bin_maxbins_10_availability_365_end\\\"]) - scale(\\\"child__column_availability_365_x\\\", datum[\\\"bin_maxbins_10_availability_365\\\"])))) : -0.5)\"}}, \"y\": {\"field\": \"__count\", \"scale\": \"child__column_availability_365_y\"}, \"y2\": {\"value\": 0, \"scale\": \"child__column_availability_365_y\"}, \"fill\": {\"value\": \"#4c78a8\"}}}, \"style\": [\"bar\"]}], \"axes\": [{\"scale\": \"child__column_availability_365_y\", \"domain\": false, \"grid\": true, \"maxExtent\": 0, \"ticks\": false, \"gridScale\": \"child__column_availability_365_x\", \"minExtent\": 0, \"zindex\": 0, \"aria\": false, \"tickCount\": {\"signal\": \"ceil(childHeight/40)\"}, \"labels\": false, \"orient\": \"left\"}, {\"scale\": \"child__column_availability_365_x\", \"tickCount\": {\"signal\": \"ceil(childWidth/10)\"}, \"grid\": false, \"orient\": \"bottom\", \"labelOverlap\": true, \"title\": \"availability_365 (binned)\", \"labelFlush\": true, \"zindex\": 0}, {\"scale\": \"child__column_availability_365_y\", \"labelOverlap\": true, \"tickCount\": {\"signal\": \"ceil(childHeight/40)\"}, \"zindex\": 0, \"title\": \"Count of Records\", \"grid\": false, \"orient\": \"left\"}], \"style\": \"cell\"}, {\"type\": \"group\", \"name\": \"child__column_number_of_reviews_group\", \"encode\": {\"update\": {\"width\": {\"signal\": \"childWidth\"}, \"height\": {\"signal\": \"childHeight\"}}}, \"marks\": [{\"type\": \"rect\", \"name\": \"child__column_number_of_reviews_marks\", \"from\": {\"data\": \"data_3\"}, \"encode\": {\"update\": {\"x2\": {\"field\": \"bin_maxbins_10_number_of_reviews\", \"scale\": \"child__column_number_of_reviews_x\", \"offset\": {\"signal\": \"0.5 + (abs(scale(\\\"child__column_number_of_reviews_x\\\", datum[\\\"bin_maxbins_10_number_of_reviews_end\\\"]) - scale(\\\"child__column_number_of_reviews_x\\\", datum[\\\"bin_maxbins_10_number_of_reviews\\\"])) < 0.25 ? -0.5 * (0.25 - (abs(scale(\\\"child__column_number_of_reviews_x\\\", datum[\\\"bin_maxbins_10_number_of_reviews_end\\\"]) - scale(\\\"child__column_number_of_reviews_x\\\", datum[\\\"bin_maxbins_10_number_of_reviews\\\"])))) : 0.5)\"}}, \"x\": {\"field\": \"bin_maxbins_10_number_of_reviews_end\", \"scale\": \"child__column_number_of_reviews_x\", \"offset\": {\"signal\": \"0.5 + (abs(scale(\\\"child__column_number_of_reviews_x\\\", datum[\\\"bin_maxbins_10_number_of_reviews_end\\\"]) - scale(\\\"child__column_number_of_reviews_x\\\", datum[\\\"bin_maxbins_10_number_of_reviews\\\"])) < 0.25 ? 0.5 * (0.25 - (abs(scale(\\\"child__column_number_of_reviews_x\\\", datum[\\\"bin_maxbins_10_number_of_reviews_end\\\"]) - scale(\\\"child__column_number_of_reviews_x\\\", datum[\\\"bin_maxbins_10_number_of_reviews\\\"])))) : -0.5)\"}}, \"y\": {\"field\": \"__count\", \"scale\": \"child__column_number_of_reviews_y\"}, \"y2\": {\"value\": 0, \"scale\": \"child__column_number_of_reviews_y\"}, \"fill\": {\"value\": \"#4c78a8\"}}}, \"style\": [\"bar\"]}], \"axes\": [{\"scale\": \"child__column_number_of_reviews_y\", \"gridScale\": \"child__column_number_of_reviews_x\", \"tickCount\": {\"signal\": \"ceil(childHeight/40)\"}, \"aria\": false, \"grid\": true, \"maxExtent\": 0, \"domain\": false, \"labels\": false, \"minExtent\": 0, \"zindex\": 0, \"orient\": \"left\", \"ticks\": false}, {\"scale\": \"child__column_number_of_reviews_x\", \"tickCount\": {\"signal\": \"ceil(childWidth/10)\"}, \"zindex\": 0, \"orient\": \"bottom\", \"labelFlush\": true, \"title\": \"number_of_reviews (binned)\", \"grid\": false, \"labelOverlap\": true}, {\"scale\": \"child__column_number_of_reviews_y\", \"orient\": \"left\", \"title\": \"Count of Records\", \"grid\": false, \"labelOverlap\": true, \"tickCount\": {\"signal\": \"ceil(childHeight/40)\"}, \"zindex\": 0}], \"style\": \"cell\"}, {\"type\": \"group\", \"name\": \"child__column_minimum_nights_group\", \"encode\": {\"update\": {\"width\": {\"signal\": \"childWidth\"}, \"height\": {\"signal\": \"childHeight\"}}}, \"marks\": [{\"type\": \"rect\", \"name\": \"child__column_minimum_nights_marks\", \"from\": {\"data\": \"data_0\"}, \"encode\": {\"update\": {\"fill\": {\"value\": \"#4c78a8\"}, \"y\": {\"field\": \"__count\", \"scale\": \"child__column_minimum_nights_y\"}, \"y2\": {\"value\": 0, \"scale\": \"child__column_minimum_nights_y\"}, \"x2\": {\"field\": \"bin_maxbins_10_minimum_nights\", \"scale\": \"child__column_minimum_nights_x\", \"offset\": {\"signal\": \"0.5 + (abs(scale(\\\"child__column_minimum_nights_x\\\", datum[\\\"bin_maxbins_10_minimum_nights_end\\\"]) - scale(\\\"child__column_minimum_nights_x\\\", datum[\\\"bin_maxbins_10_minimum_nights\\\"])) < 0.25 ? -0.5 * (0.25 - (abs(scale(\\\"child__column_minimum_nights_x\\\", datum[\\\"bin_maxbins_10_minimum_nights_end\\\"]) - scale(\\\"child__column_minimum_nights_x\\\", datum[\\\"bin_maxbins_10_minimum_nights\\\"])))) : 0.5)\"}}, \"x\": {\"field\": \"bin_maxbins_10_minimum_nights_end\", \"scale\": \"child__column_minimum_nights_x\", \"offset\": {\"signal\": \"0.5 + (abs(scale(\\\"child__column_minimum_nights_x\\\", datum[\\\"bin_maxbins_10_minimum_nights_end\\\"]) - scale(\\\"child__column_minimum_nights_x\\\", datum[\\\"bin_maxbins_10_minimum_nights\\\"])) < 0.25 ? 0.5 * (0.25 - (abs(scale(\\\"child__column_minimum_nights_x\\\", datum[\\\"bin_maxbins_10_minimum_nights_end\\\"]) - scale(\\\"child__column_minimum_nights_x\\\", datum[\\\"bin_maxbins_10_minimum_nights\\\"])))) : -0.5)\"}}}}, \"style\": [\"bar\"]}], \"axes\": [{\"scale\": \"child__column_minimum_nights_y\", \"labels\": false, \"gridScale\": \"child__column_minimum_nights_x\", \"maxExtent\": 0, \"ticks\": false, \"tickCount\": {\"signal\": \"ceil(childHeight/40)\"}, \"minExtent\": 0, \"zindex\": 0, \"aria\": false, \"grid\": true, \"domain\": false, \"orient\": \"left\"}, {\"scale\": \"child__column_minimum_nights_x\", \"title\": \"minimum_nights (binned)\", \"labelFlush\": true, \"labelOverlap\": true, \"tickCount\": {\"signal\": \"ceil(childWidth/10)\"}, \"grid\": false, \"orient\": \"bottom\", \"zindex\": 0}, {\"scale\": \"child__column_minimum_nights_y\", \"tickCount\": {\"signal\": \"ceil(childHeight/40)\"}, \"zindex\": 0, \"grid\": false, \"orient\": \"left\", \"labelOverlap\": true, \"title\": \"Count of Records\"}], \"style\": \"cell\"}], \"scales\": [{\"name\": \"child__column_price_x\", \"type\": \"linear\", \"domain\": {\"signal\": \"[child__column_price_bin_maxbins_10_price_bins.start, child__column_price_bin_maxbins_10_price_bins.stop]\"}, \"range\": [0, {\"signal\": \"childWidth\"}], \"bins\": {\"signal\": \"child__column_price_bin_maxbins_10_price_bins\"}, \"zero\": false}, {\"name\": \"child__column_price_y\", \"type\": \"linear\", \"domain\": [{\"signal\": \"(data(\\\"data_1_child__column_price_y_domain___count\\\")[0] || {}).min\"}, {\"signal\": \"(data(\\\"data_1_child__column_price_y_domain___count\\\")[0] || {}).max\"}], \"range\": [{\"signal\": \"childHeight\"}, 0], \"nice\": true, \"zero\": true}, {\"name\": \"child__column_availability_365_x\", \"type\": \"linear\", \"domain\": {\"signal\": \"[child__column_availability_365_bin_maxbins_10_availability_365_bins.start, child__column_availability_365_bin_maxbins_10_availability_365_bins.stop]\"}, \"range\": [0, {\"signal\": \"childWidth\"}], \"bins\": {\"signal\": \"child__column_availability_365_bin_maxbins_10_availability_365_bins\"}, \"zero\": false}, {\"name\": \"child__column_availability_365_y\", \"type\": \"linear\", \"domain\": [{\"signal\": \"(data(\\\"data_2_child__column_availability_365_y_domain___count\\\")[0] || {}).min\"}, {\"signal\": \"(data(\\\"data_2_child__column_availability_365_y_domain___count\\\")[0] || {}).max\"}], \"range\": [{\"signal\": \"childHeight\"}, 0], \"zero\": true, \"nice\": true}, {\"name\": \"child__column_number_of_reviews_x\", \"type\": \"linear\", \"domain\": {\"signal\": \"[child__column_number_of_reviews_bin_maxbins_10_number_of_reviews_bins.start, child__column_number_of_reviews_bin_maxbins_10_number_of_reviews_bins.stop]\"}, \"range\": [0, {\"signal\": \"childWidth\"}], \"bins\": {\"signal\": \"child__column_number_of_reviews_bin_maxbins_10_number_of_reviews_bins\"}, \"zero\": false}, {\"name\": \"child__column_number_of_reviews_y\", \"type\": \"linear\", \"domain\": [{\"signal\": \"(data(\\\"data_3_child__column_number_of_reviews_y_domain___count\\\")[0] || {}).min\"}, {\"signal\": \"(data(\\\"data_3_child__column_number_of_reviews_y_domain___count\\\")[0] || {}).max\"}], \"range\": [{\"signal\": \"childHeight\"}, 0], \"zero\": true, \"nice\": true}, {\"name\": \"child__column_minimum_nights_x\", \"type\": \"linear\", \"domain\": {\"signal\": \"[child__column_minimum_nights_bin_maxbins_10_minimum_nights_bins.start, child__column_minimum_nights_bin_maxbins_10_minimum_nights_bins.stop]\"}, \"range\": [0, {\"signal\": \"childWidth\"}], \"bins\": {\"signal\": \"child__column_minimum_nights_bin_maxbins_10_minimum_nights_bins\"}, \"zero\": false}, {\"name\": \"child__column_minimum_nights_y\", \"type\": \"linear\", \"domain\": [{\"signal\": \"(data(\\\"data_0_child__column_minimum_nights_y_domain___count\\\")[0] || {}).min\"}, {\"signal\": \"(data(\\\"data_0_child__column_minimum_nights_y_domain___count\\\")[0] || {}).max\"}], \"range\": [{\"signal\": \"childHeight\"}, 0], \"nice\": true, \"zero\": true}], \"padding\": 5, \"background\": \"white\", \"layout\": {\"padding\": 20, \"columns\": 4, \"bounds\": \"full\", \"align\": \"all\"}}, {\"mode\": \"vega\"});\n",
       "</script>"
      ],
      "text/plain": [
       "alt.RepeatChart(...)"
      ]
     },
     "execution_count": 34,
     "metadata": {},
     "output_type": "execute_result"
    }
   ],
   "source": [
    "col_list = ['price','availability_365','number_of_reviews','minimum_nights']\n",
    "\n",
    "chart = alt.Chart(data).mark_bar().encode(\n",
    "    x=alt.X(alt.repeat('column')).bin(),\n",
    "    y='count()'\n",
    ").repeat(\n",
    "    column=col_list\n",
    ")\n",
    "chart"
   ]
  },
  {
   "cell_type": "code",
   "execution_count": 35,
   "metadata": {
    "tags": []
   },
   "outputs": [
    {
     "data": {
      "text/html": [
       "\n",
       "<style>\n",
       "  #altair-viz-0644bed5a3ea4904ac17bf3ba8e55d4d.vega-embed {\n",
       "    width: 100%;\n",
       "    display: flex;\n",
       "  }\n",
       "\n",
       "  #altair-viz-0644bed5a3ea4904ac17bf3ba8e55d4d.vega-embed details,\n",
       "  #altair-viz-0644bed5a3ea4904ac17bf3ba8e55d4d.vega-embed details summary {\n",
       "    position: relative;\n",
       "  }\n",
       "</style>\n",
       "<div id=\"altair-viz-0644bed5a3ea4904ac17bf3ba8e55d4d\"></div>\n",
       "<script type=\"text/javascript\">\n",
       "  var VEGA_DEBUG = (typeof VEGA_DEBUG == \"undefined\") ? {} : VEGA_DEBUG;\n",
       "  (function(spec, embedOpt){\n",
       "    let outputDiv = document.currentScript.previousElementSibling;\n",
       "    if (outputDiv.id !== \"altair-viz-0644bed5a3ea4904ac17bf3ba8e55d4d\") {\n",
       "      outputDiv = document.getElementById(\"altair-viz-0644bed5a3ea4904ac17bf3ba8e55d4d\");\n",
       "    }\n",
       "    const paths = {\n",
       "      \"vega\": \"https://cdn.jsdelivr.net/npm/vega@5?noext\",\n",
       "      \"vega-lib\": \"https://cdn.jsdelivr.net/npm/vega-lib?noext\",\n",
       "      \"vega-lite\": \"https://cdn.jsdelivr.net/npm/vega-lite@5.20.1?noext\",\n",
       "      \"vega-embed\": \"https://cdn.jsdelivr.net/npm/vega-embed@6?noext\",\n",
       "    };\n",
       "\n",
       "    function maybeLoadScript(lib, version) {\n",
       "      var key = `${lib.replace(\"-\", \"\")}_version`;\n",
       "      return (VEGA_DEBUG[key] == version) ?\n",
       "        Promise.resolve(paths[lib]) :\n",
       "        new Promise(function(resolve, reject) {\n",
       "          var s = document.createElement('script');\n",
       "          document.getElementsByTagName(\"head\")[0].appendChild(s);\n",
       "          s.async = true;\n",
       "          s.onload = () => {\n",
       "            VEGA_DEBUG[key] = version;\n",
       "            return resolve(paths[lib]);\n",
       "          };\n",
       "          s.onerror = () => reject(`Error loading script: ${paths[lib]}`);\n",
       "          s.src = paths[lib];\n",
       "        });\n",
       "    }\n",
       "\n",
       "    function showError(err) {\n",
       "      outputDiv.innerHTML = `<div class=\"error\" style=\"color:red;\">${err}</div>`;\n",
       "      throw err;\n",
       "    }\n",
       "\n",
       "    function displayChart(vegaEmbed) {\n",
       "      vegaEmbed(outputDiv, spec, embedOpt)\n",
       "        .catch(err => showError(`Javascript Error: ${err.message}<br>This usually means there's a typo in your chart specification. See the javascript console for the full traceback.`));\n",
       "    }\n",
       "\n",
       "    if(typeof define === \"function\" && define.amd) {\n",
       "      requirejs.config({paths});\n",
       "      require([\"vega-embed\"], displayChart, err => showError(`Error loading script: ${err.message}`));\n",
       "    } else {\n",
       "      maybeLoadScript(\"vega\", \"5\")\n",
       "        .then(() => maybeLoadScript(\"vega-lite\", \"5.20.1\"))\n",
       "        .then(() => maybeLoadScript(\"vega-embed\", \"6\"))\n",
       "        .catch(showError)\n",
       "        .then(() => displayChart(vegaEmbed));\n",
       "    }\n",
       "  })({\"$schema\": \"https://vega.github.io/schema/vega/v5.json\", \"data\": [{\"name\": \"source_0\"}, {\"name\": \"data_0\", \"values\": [{\"abs_value\": 0.16372590425297884, \"index\": \"availability_365\", \"value\": 0.16372590425297884, \"variable\": \"reviews_per_month\"}, {\"abs_value\": 0.04340080305566577, \"index\": \"calculated_host_listings_count\", \"value\": -0.04340080305566577, \"variable\": \"reviews_per_month\"}, {\"abs_value\": 0.05024037969858212, \"index\": \"reviews_per_month\", \"value\": -0.05024037969858212, \"variable\": \"price\"}, {\"abs_value\": 0.0799847421288164, \"index\": \"availability_365\", \"value\": 0.0799847421288164, \"variable\": \"price\"}, {\"abs_value\": 0.04961025686635106, \"index\": \"minimum_nights\", \"value\": 0.04961025686635106, \"variable\": \"price\"}, {\"abs_value\": 0.04879014297853409, \"index\": \"number_of_reviews\", \"value\": -0.04879014297853409, \"variable\": \"price\"}, {\"abs_value\": 0.05382492353821688, \"index\": \"calculated_host_listings_count\", \"value\": 0.05382492353821688, \"variable\": \"price\"}, {\"abs_value\": 0.1723862659873817, \"index\": \"availability_365\", \"value\": 0.1723862659873817, \"variable\": \"number_of_reviews\"}, {\"abs_value\": 0.07123392398075264, \"index\": \"calculated_host_listings_count\", \"value\": -0.07123392398075264, \"variable\": \"number_of_reviews\"}, {\"abs_value\": 0.5866799896632564, \"index\": \"reviews_per_month\", \"value\": 0.5866799896632564, \"variable\": \"number_of_reviews\"}, {\"abs_value\": 0.12277981853868701, \"index\": \"calculated_host_listings_count\", \"value\": 0.12277981853868701, \"variable\": \"minimum_nights\"}, {\"abs_value\": 0.0801667259462016, \"index\": \"number_of_reviews\", \"value\": -0.0801667259462016, \"variable\": \"minimum_nights\"}, {\"abs_value\": 0.12377950792210878, \"index\": \"reviews_per_month\", \"value\": -0.12377950792210878, \"variable\": \"minimum_nights\"}, {\"abs_value\": 0.1432995435961937, \"index\": \"availability_365\", \"value\": 0.1432995435961937, \"variable\": \"minimum_nights\"}, {\"abs_value\": 0.0653971814840399, \"index\": \"minimum_nights\", \"value\": -0.0653971814840399, \"variable\": \"longitude\"}, {\"abs_value\": 0.11599364850135083, \"index\": \"calculated_host_listings_count\", \"value\": -0.11599364850135083, \"variable\": \"longitude\"}, {\"abs_value\": 0.14554682807800687, \"index\": \"price\", \"value\": -0.14554682807800687, \"variable\": \"longitude\"}, {\"abs_value\": 0.05895932798218841, \"index\": \"number_of_reviews\", \"value\": 0.05895932798218841, \"variable\": \"longitude\"}, {\"abs_value\": 0.08844058853308444, \"index\": \"availability_365\", \"value\": 0.08844058853308444, \"variable\": \"longitude\"}, {\"abs_value\": 0.1340432855258583, \"index\": \"reviews_per_month\", \"value\": 0.1340432855258583, \"variable\": \"longitude\"}, {\"abs_value\": 0.030587452338862543, \"index\": \"price\", \"value\": 0.030587452338862543, \"variable\": \"latitude\"}, {\"abs_value\": 0.022389137213199923, \"index\": \"minimum_nights\", \"value\": 0.022389137213199923, \"variable\": \"latitude\"}, {\"abs_value\": 0.013812933832574963, \"index\": \"number_of_reviews\", \"value\": -0.013812933832574963, \"variable\": \"latitude\"}, {\"abs_value\": 0.014740325126401608, \"index\": \"reviews_per_month\", \"value\": -0.014740325126401608, \"variable\": \"latitude\"}, {\"abs_value\": 0.08329679850869916, \"index\": \"longitude\", \"value\": 0.08329679850869916, \"variable\": \"latitude\"}, {\"abs_value\": 0.010525983040533688, \"index\": \"availability_365\", \"value\": -0.010525983040533688, \"variable\": \"latitude\"}, {\"abs_value\": 0.01684214197757748, \"index\": \"calculated_host_listings_count\", \"value\": 0.01684214197757748, \"variable\": \"latitude\"}, {\"abs_value\": 0.5880711173212776, \"index\": \"host_id\", \"value\": 0.5880711173212776, \"variable\": \"id\"}, {\"abs_value\": 0.0026155684543192385, \"index\": \"latitude\", \"value\": -0.0026155684543192385, \"variable\": \"id\"}, {\"abs_value\": 0.08874548854672143, \"index\": \"availability_365\", \"value\": 0.08874548854672143, \"variable\": \"id\"}, {\"abs_value\": 0.08878623744183589, \"index\": \"longitude\", \"value\": 0.08878623744183589, \"variable\": \"id\"}, {\"abs_value\": 0.010160881305266356, \"index\": \"price\", \"value\": 0.010160881305266356, \"variable\": \"id\"}, {\"abs_value\": 0.015494874041217662, \"index\": \"minimum_nights\", \"value\": -0.015494874041217662, \"variable\": \"id\"}, {\"abs_value\": 0.31875087155670195, \"index\": \"number_of_reviews\", \"value\": -0.31875087155670195, \"variable\": \"id\"}, {\"abs_value\": 0.18293875626027134, \"index\": \"reviews_per_month\", \"value\": 0.18293875626027134, \"variable\": \"id\"}, {\"abs_value\": 0.13442274274808047, \"index\": \"calculated_host_listings_count\", \"value\": 0.13442274274808047, \"variable\": \"id\"}, {\"abs_value\": 0.024433839877154646, \"index\": \"latitude\", \"value\": 0.024433839877154646, \"variable\": \"host_id\"}, {\"abs_value\": 0.20706699753316088, \"index\": \"availability_365\", \"value\": 0.20706699753316088, \"variable\": \"host_id\"}, {\"abs_value\": 0.12546859906549104, \"index\": \"longitude\", \"value\": 0.12546859906549104, \"variable\": \"host_id\"}, {\"abs_value\": 0.015249261319723897, \"index\": \"price\", \"value\": 0.015249261319723897, \"variable\": \"host_id\"}, {\"abs_value\": 0.01693531169804033, \"index\": \"minimum_nights\", \"value\": -0.01693531169804033, \"variable\": \"host_id\"}, {\"abs_value\": 0.14156841004655862, \"index\": \"number_of_reviews\", \"value\": -0.14156841004655862, \"variable\": \"host_id\"}, {\"abs_value\": 0.20626811528482195, \"index\": \"reviews_per_month\", \"value\": 0.20626811528482195, \"variable\": \"host_id\"}, {\"abs_value\": 0.16103135347913772, \"index\": \"calculated_host_listings_count\", \"value\": 0.16103135347913772, \"variable\": \"host_id\"}, {\"abs_value\": 0.22694998593374546, \"index\": \"availability_365\", \"value\": 0.22694998593374546, \"variable\": \"calculated_host_listings_count\"}]}, {\"name\": \"source_1\"}, {\"name\": \"data_1\", \"values\": [{\"abs_value\": 0.29781083441701645, \"index\": \"availability_365\", \"value\": 0.29781083441701645, \"variable\": \"reviews_per_month\"}, {\"abs_value\": 0.09709601934123264, \"index\": \"calculated_host_listings_count\", \"value\": 0.09709601934123264, \"variable\": \"reviews_per_month\"}, {\"abs_value\": 0.060195383318898815, \"index\": \"reviews_per_month\", \"value\": -0.060195383318898815, \"variable\": \"price\"}, {\"abs_value\": 0.0821658894797083, \"index\": \"availability_365\", \"value\": 0.0821658894797083, \"variable\": \"price\"}, {\"abs_value\": 0.10280907700909996, \"index\": \"minimum_nights\", \"value\": 0.10280907700909996, \"variable\": \"price\"}, {\"abs_value\": 0.05708165262978679, \"index\": \"number_of_reviews\", \"value\": -0.05708165262978679, \"variable\": \"price\"}, {\"abs_value\": 0.10850827288451358, \"index\": \"calculated_host_listings_count\", \"value\": -0.10850827288451358, \"variable\": \"price\"}, {\"abs_value\": 0.23460817279901233, \"index\": \"availability_365\", \"value\": 0.23460817279901233, \"variable\": \"number_of_reviews\"}, {\"abs_value\": 0.05639402298573091, \"index\": \"calculated_host_listings_count\", \"value\": 0.05639402298573091, \"variable\": \"number_of_reviews\"}, {\"abs_value\": 0.849450356964094, \"index\": \"reviews_per_month\", \"value\": 0.849450356964094, \"variable\": \"number_of_reviews\"}, {\"abs_value\": 0.06469773456554798, \"index\": \"calculated_host_listings_count\", \"value\": 0.06469773456554798, \"variable\": \"minimum_nights\"}, {\"abs_value\": 0.17275882123062308, \"index\": \"number_of_reviews\", \"value\": -0.17275882123062308, \"variable\": \"minimum_nights\"}, {\"abs_value\": 0.24423333165416206, \"index\": \"reviews_per_month\", \"value\": -0.24423333165416206, \"variable\": \"minimum_nights\"}, {\"abs_value\": 0.08037877973390664, \"index\": \"availability_365\", \"value\": 0.08037877973390664, \"variable\": \"minimum_nights\"}, {\"abs_value\": 0.11727488932776838, \"index\": \"minimum_nights\", \"value\": -0.11727488932776838, \"variable\": \"longitude\"}, {\"abs_value\": 0.06209767805567873, \"index\": \"calculated_host_listings_count\", \"value\": 0.06209767805567873, \"variable\": \"longitude\"}, {\"abs_value\": 0.4370553745389665, \"index\": \"price\", \"value\": -0.4370553745389665, \"variable\": \"longitude\"}, {\"abs_value\": 0.08188613857201689, \"index\": \"number_of_reviews\", \"value\": 0.08188613857201689, \"variable\": \"longitude\"}, {\"abs_value\": 0.07311520731055317, \"index\": \"availability_365\", \"value\": 0.07311520731055317, \"variable\": \"longitude\"}, {\"abs_value\": 0.11105788370927198, \"index\": \"reviews_per_month\", \"value\": 0.11105788370927198, \"variable\": \"longitude\"}, {\"abs_value\": 0.13542740828647715, \"index\": \"price\", \"value\": 0.13542740828647715, \"variable\": \"latitude\"}, {\"abs_value\": 0.021386675484995447, \"index\": \"minimum_nights\", \"value\": 0.021386675484995447, \"variable\": \"latitude\"}, {\"abs_value\": 0.04155239009878188, \"index\": \"number_of_reviews\", \"value\": -0.04155239009878188, \"variable\": \"latitude\"}, {\"abs_value\": 0.04087553587686234, \"index\": \"reviews_per_month\", \"value\": -0.04087553587686234, \"variable\": \"latitude\"}, {\"abs_value\": 0.03329184049921655, \"index\": \"longitude\", \"value\": 0.03329184049921655, \"variable\": \"latitude\"}, {\"abs_value\": 0.007173139409080135, \"index\": \"availability_365\", \"value\": -0.007173139409080135, \"variable\": \"latitude\"}, {\"abs_value\": 0.0012115734564638676, \"index\": \"calculated_host_listings_count\", \"value\": 0.0012115734564638676, \"variable\": \"latitude\"}, {\"abs_value\": 0.558995127157373, \"index\": \"host_id\", \"value\": 0.558995127157373, \"variable\": \"id\"}, {\"abs_value\": 0.004505514459360653, \"index\": \"latitude\", \"value\": 0.004505514459360653, \"variable\": \"id\"}, {\"abs_value\": 0.16907396236955938, \"index\": \"availability_365\", \"value\": 0.16907396236955938, \"variable\": \"id\"}, {\"abs_value\": 0.06591793862118468, \"index\": \"longitude\", \"value\": 0.06591793862118468, \"variable\": \"id\"}, {\"abs_value\": 0.018483172846964116, \"index\": \"price\", \"value\": -0.018483172846964116, \"variable\": \"id\"}, {\"abs_value\": 0.054855602257268536, \"index\": \"minimum_nights\", \"value\": -0.054855602257268536, \"variable\": \"id\"}, {\"abs_value\": 0.3051817249673063, \"index\": \"number_of_reviews\", \"value\": -0.3051817249673063, \"variable\": \"id\"}, {\"abs_value\": 0.10485689941753026, \"index\": \"reviews_per_month\", \"value\": 0.10485689941753026, \"variable\": \"id\"}, {\"abs_value\": 0.13774177040348737, \"index\": \"calculated_host_listings_count\", \"value\": 0.13774177040348737, \"variable\": \"id\"}, {\"abs_value\": 0.049229940999792825, \"index\": \"latitude\", \"value\": 0.049229940999792825, \"variable\": \"host_id\"}, {\"abs_value\": 0.1744112526496312, \"index\": \"availability_365\", \"value\": 0.1744112526496312, \"variable\": \"host_id\"}, {\"abs_value\": 0.10437599997745364, \"index\": \"longitude\", \"value\": 0.10437599997745364, \"variable\": \"host_id\"}, {\"abs_value\": 0.07080498760046831, \"index\": \"price\", \"value\": -0.07080498760046831, \"variable\": \"host_id\"}, {\"abs_value\": 0.12434644648943215, \"index\": \"minimum_nights\", \"value\": -0.12434644648943215, \"variable\": \"host_id\"}, {\"abs_value\": 0.1306688978789811, \"index\": \"number_of_reviews\", \"value\": -0.1306688978789811, \"variable\": \"host_id\"}, {\"abs_value\": 0.10717288304758316, \"index\": \"reviews_per_month\", \"value\": 0.10717288304758316, \"variable\": \"host_id\"}, {\"abs_value\": 0.14764325099768505, \"index\": \"calculated_host_listings_count\", \"value\": 0.14764325099768505, \"variable\": \"host_id\"}, {\"abs_value\": 0.40725321779751233, \"index\": \"availability_365\", \"value\": 0.40725321779751233, \"variable\": \"calculated_host_listings_count\"}]}, {\"name\": \"source_0_concat_0_x_domain_index\", \"values\": [{\"index\": \"availability_365\", \"sort_field\": 0.0}, {\"index\": \"calculated_host_listings_count\", \"sort_field\": 1.0}, {\"index\": \"reviews_per_month\", \"sort_field\": 2.0}, {\"index\": \"minimum_nights\", \"sort_field\": 4.0}, {\"index\": \"number_of_reviews\", \"sort_field\": 3.0}, {\"index\": \"price\", \"sort_field\": 5.0}, {\"index\": \"longitude\", \"sort_field\": 6.0}, {\"index\": \"host_id\", \"sort_field\": 8.0}, {\"index\": \"latitude\", \"sort_field\": 7.0}]}, {\"name\": \"source_0_concat_0_y_domain_variable\", \"values\": [{\"sort_field\": 1.0, \"variable\": \"reviews_per_month\"}, {\"sort_field\": 4.0, \"variable\": \"price\"}, {\"sort_field\": 2.0, \"variable\": \"number_of_reviews\"}, {\"sort_field\": 3.0, \"variable\": \"minimum_nights\"}, {\"sort_field\": 5.0, \"variable\": \"longitude\"}, {\"sort_field\": 6.0, \"variable\": \"latitude\"}, {\"sort_field\": 8.0, \"variable\": \"id\"}, {\"sort_field\": 7.0, \"variable\": \"host_id\"}, {\"sort_field\": 0.0, \"variable\": \"calculated_host_listings_count\"}]}, {\"name\": \"source_1_concat_1_x_domain_index\", \"values\": [{\"index\": \"availability_365\", \"sort_field\": 0.0}, {\"index\": \"calculated_host_listings_count\", \"sort_field\": 1.0}, {\"index\": \"reviews_per_month\", \"sort_field\": 2.0}, {\"index\": \"minimum_nights\", \"sort_field\": 4.0}, {\"index\": \"number_of_reviews\", \"sort_field\": 3.0}, {\"index\": \"price\", \"sort_field\": 5.0}, {\"index\": \"longitude\", \"sort_field\": 6.0}, {\"index\": \"host_id\", \"sort_field\": 8.0}, {\"index\": \"latitude\", \"sort_field\": 7.0}]}, {\"name\": \"source_1_concat_1_y_domain_variable\", \"values\": [{\"sort_field\": 1.0, \"variable\": \"reviews_per_month\"}, {\"sort_field\": 4.0, \"variable\": \"price\"}, {\"sort_field\": 2.0, \"variable\": \"number_of_reviews\"}, {\"sort_field\": 3.0, \"variable\": \"minimum_nights\"}, {\"sort_field\": 5.0, \"variable\": \"longitude\"}, {\"sort_field\": 6.0, \"variable\": \"latitude\"}, {\"sort_field\": 8.0, \"variable\": \"id\"}, {\"sort_field\": 7.0, \"variable\": \"host_id\"}, {\"sort_field\": 0.0, \"variable\": \"calculated_host_listings_count\"}]}], \"signals\": [{\"name\": \"concat_0_x_step\", \"value\": 20}, {\"name\": \"concat_0_width\", \"update\": \"bandspace(domain('concat_0_x').length, 1, 0.5) * concat_0_x_step\"}, {\"name\": \"concat_0_y_step\", \"value\": 20}, {\"name\": \"concat_0_height\", \"update\": \"bandspace(domain('concat_0_y').length, 1, 0.5) * concat_0_y_step\"}, {\"name\": \"concat_1_x_step\", \"value\": 20}, {\"name\": \"concat_1_width\", \"update\": \"bandspace(domain('concat_1_x').length, 1, 0.5) * concat_1_x_step\"}, {\"name\": \"concat_1_y_step\", \"value\": 20}, {\"name\": \"concat_1_height\", \"update\": \"bandspace(domain('concat_1_y').length, 1, 0.5) * concat_1_y_step\"}], \"marks\": [{\"type\": \"group\", \"name\": \"concat_0_group\", \"encode\": {\"update\": {\"height\": {\"signal\": \"concat_0_height\"}, \"width\": {\"signal\": \"concat_0_width\"}}}, \"marks\": [{\"type\": \"symbol\", \"name\": \"concat_0_marks\", \"from\": {\"data\": \"data_0\"}, \"encode\": {\"update\": {\"shape\": {\"value\": \"circle\"}, \"y\": {\"field\": \"variable\", \"scale\": \"concat_0_y\"}, \"opacity\": {\"value\": 0.7}, \"fill\": {\"field\": \"value\", \"scale\": \"color\"}, \"tooltip\": {\"signal\": \"{\\\"corr\\\": format(datum[\\\"value\\\"], \\\".2f\\\"), \\\"x\\\": isValid(datum[\\\"index\\\"]) ? datum[\\\"index\\\"] : \\\"\\\"+datum[\\\"index\\\"], \\\"y\\\": isValid(datum[\\\"variable\\\"]) ? datum[\\\"variable\\\"] : \\\"\\\"+datum[\\\"variable\\\"]}\"}, \"size\": {\"field\": \"abs_value\", \"scale\": \"size\"}, \"x\": {\"field\": \"index\", \"scale\": \"concat_0_x\"}}}, \"style\": [\"circle\"]}], \"axes\": [{\"scale\": \"concat_0_x\", \"labelAngle\": 270, \"labelAlign\": \"right\", \"orient\": \"bottom\", \"grid\": false, \"labelBaseline\": \"middle\", \"zindex\": 0}, {\"scale\": \"concat_0_y\", \"grid\": false, \"orient\": \"left\", \"zindex\": 0}], \"title\": {\"text\": \"Pearson correlations\", \"frame\": \"group\"}, \"style\": \"cell\"}, {\"type\": \"group\", \"name\": \"concat_1_group\", \"encode\": {\"update\": {\"height\": {\"signal\": \"concat_1_height\"}, \"width\": {\"signal\": \"concat_1_width\"}}}, \"marks\": [{\"type\": \"symbol\", \"name\": \"concat_1_marks\", \"from\": {\"data\": \"data_1\"}, \"encode\": {\"update\": {\"fill\": {\"field\": \"value\", \"scale\": \"color\"}, \"y\": {\"field\": \"variable\", \"scale\": \"concat_1_y\"}, \"opacity\": {\"value\": 0.7}, \"tooltip\": {\"signal\": \"{\\\"corr\\\": format(datum[\\\"value\\\"], \\\".2f\\\"), \\\"x\\\": isValid(datum[\\\"index\\\"]) ? datum[\\\"index\\\"] : \\\"\\\"+datum[\\\"index\\\"], \\\"y\\\": isValid(datum[\\\"variable\\\"]) ? datum[\\\"variable\\\"] : \\\"\\\"+datum[\\\"variable\\\"]}\"}, \"x\": {\"field\": \"index\", \"scale\": \"concat_1_x\"}, \"shape\": {\"value\": \"circle\"}, \"size\": {\"field\": \"abs_value\", \"scale\": \"size\"}}}, \"style\": [\"circle\"]}], \"axes\": [{\"scale\": \"concat_1_x\", \"labelAlign\": \"right\", \"zindex\": 0, \"orient\": \"bottom\", \"labelAngle\": 270, \"labelBaseline\": \"middle\", \"grid\": false}, {\"scale\": \"concat_1_y\", \"grid\": false, \"zindex\": 0, \"orient\": \"left\", \"labels\": false}], \"title\": {\"text\": \"Spearman correlations\", \"frame\": \"group\"}, \"style\": \"cell\"}], \"scales\": [{\"name\": \"color\", \"type\": \"linear\", \"domain\": [-1, 1], \"range\": {\"scheme\": \"blueorange\"}, \"interpolate\": \"hcl\", \"zero\": true}, {\"name\": \"size\", \"type\": \"linear\", \"domain\": [0, 1], \"range\": [4, 361], \"zero\": true}, {\"name\": \"concat_0_x\", \"type\": \"point\", \"domain\": {\"data\": \"source_0_concat_0_x_domain_index\", \"field\": \"index\", \"sort\": {\"op\": \"max\", \"field\": \"sort_field\"}}, \"range\": {\"step\": {\"signal\": \"concat_0_x_step\"}}, \"padding\": 0.5}, {\"name\": \"concat_0_y\", \"type\": \"point\", \"domain\": {\"data\": \"source_0_concat_0_y_domain_variable\", \"field\": \"variable\", \"sort\": {\"op\": \"max\", \"field\": \"sort_field\"}}, \"range\": {\"step\": {\"signal\": \"concat_0_y_step\"}}, \"padding\": 0.5}, {\"name\": \"concat_1_x\", \"type\": \"point\", \"domain\": {\"data\": \"source_1_concat_1_x_domain_index\", \"field\": \"index\", \"sort\": {\"op\": \"max\", \"field\": \"sort_field\"}}, \"range\": {\"step\": {\"signal\": \"concat_1_x_step\"}}, \"padding\": 0.5}, {\"name\": \"concat_1_y\", \"type\": \"point\", \"domain\": {\"data\": \"source_1_concat_1_y_domain_variable\", \"field\": \"variable\", \"sort\": {\"op\": \"max\", \"field\": \"sort_field\"}}, \"range\": {\"step\": {\"signal\": \"concat_1_y_step\"}}, \"padding\": 0.5}], \"config\": {\"style\": {\"cell\": {\"strokeWidth\": 0}}}, \"layout\": {\"padding\": 20, \"bounds\": \"full\", \"align\": \"each\"}, \"background\": \"white\", \"padding\": 5, \"legends\": [{\"fill\": \"color\", \"gradientLength\": {\"signal\": \"clamp(concat_0_height, 64, 200)\"}, \"encode\": {\"gradient\": {\"update\": {\"opacity\": {\"value\": 0.7}}}}}]}, {\"mode\": \"vega\"});\n",
       "</script>"
      ],
      "text/plain": [
       "alt.ConcatChart(...)"
      ]
     },
     "execution_count": 35,
     "metadata": {},
     "output_type": "execute_result"
    }
   ],
   "source": [
    "aly.corr(train_df)"
   ]
  },
  {
   "cell_type": "markdown",
   "metadata": {
    "deletable": false,
    "editable": false
   },
   "source": [
    "<!-- END QUESTION -->\n",
    "\n",
    "<!-- BEGIN QUESTION -->\n",
    "\n",
    "<div class=\"alert alert-warning\">\n",
    "\n",
    "## 4. Feature engineering (Challenging)\n",
    "rubric={reasoning}\n",
    "\n",
    "**Your tasks:**\n",
    "\n",
    "1. Carry out feature engineering. In other words, extract new features relevant for the problem and work with your new feature set in the following exercises. You may have to go back and forth between feature engineering and preprocessing.\n",
    "    \n",
    "</div>\n",
    "\n",
    "_Points:_ 0.5"
   ]
  },
  {
   "cell_type": "code",
   "execution_count": 36,
   "metadata": {
    "tags": []
   },
   "outputs": [
    {
     "name": "stdout",
     "output_type": "stream",
     "text": [
      "<class 'pandas.core.frame.DataFrame'>\n",
      "Index: 36671 entries, 4888 to 9822\n",
      "Data columns (total 16 columns):\n",
      " #   Column                          Non-Null Count  Dtype  \n",
      "---  ------                          --------------  -----  \n",
      " 0   id                              36671 non-null  int64  \n",
      " 1   name                            36658 non-null  object \n",
      " 2   host_id                         36671 non-null  int64  \n",
      " 3   host_name                       36656 non-null  object \n",
      " 4   neighbourhood_group             36671 non-null  object \n",
      " 5   neighbourhood                   36671 non-null  object \n",
      " 6   latitude                        36671 non-null  float64\n",
      " 7   longitude                       36671 non-null  float64\n",
      " 8   room_type                       36671 non-null  object \n",
      " 9   price                           36671 non-null  int64  \n",
      " 10  minimum_nights                  36671 non-null  int64  \n",
      " 11  number_of_reviews               36671 non-null  int64  \n",
      " 12  last_review                     29187 non-null  object \n",
      " 13  reviews_per_month               36671 non-null  float64\n",
      " 14  calculated_host_listings_count  36671 non-null  int64  \n",
      " 15  availability_365                36671 non-null  int64  \n",
      "dtypes: float64(3), int64(7), object(6)\n",
      "memory usage: 4.8+ MB\n"
     ]
    },
    {
     "name": "stderr",
     "output_type": "stream",
     "text": [
      "[nltk_data] Downloading package vader_lexicon to\n",
      "[nltk_data]     /Users/brianchang/nltk_data...\n",
      "[nltk_data]   Package vader_lexicon is already up-to-date!\n",
      "[nltk_data] Downloading package punkt to\n",
      "[nltk_data]     /Users/brianchang/nltk_data...\n",
      "[nltk_data]   Package punkt is already up-to-date!\n"
     ]
    }
   ],
   "source": [
    "nltk.download('vader_lexicon')\n",
    "nltk.download('punkt')\n",
    "\n",
    "sid = SentimentIntensityAnalyzer()\n",
    "\n",
    "train_df.info()"
   ]
  },
  {
   "cell_type": "code",
   "execution_count": 37,
   "metadata": {},
   "outputs": [
    {
     "data": {
      "text/html": [
       "<div>\n",
       "<style scoped>\n",
       "    .dataframe tbody tr th:only-of-type {\n",
       "        vertical-align: middle;\n",
       "    }\n",
       "\n",
       "    .dataframe tbody tr th {\n",
       "        vertical-align: top;\n",
       "    }\n",
       "\n",
       "    .dataframe thead th {\n",
       "        text-align: right;\n",
       "    }\n",
       "</style>\n",
       "<table border=\"1\" class=\"dataframe\">\n",
       "  <thead>\n",
       "    <tr style=\"text-align: right;\">\n",
       "      <th></th>\n",
       "      <th>id</th>\n",
       "      <th>name</th>\n",
       "      <th>host_id</th>\n",
       "      <th>host_name</th>\n",
       "      <th>neighbourhood_group</th>\n",
       "      <th>neighbourhood</th>\n",
       "      <th>latitude</th>\n",
       "      <th>longitude</th>\n",
       "      <th>room_type</th>\n",
       "      <th>price</th>\n",
       "      <th>minimum_nights</th>\n",
       "      <th>number_of_reviews</th>\n",
       "      <th>last_review</th>\n",
       "      <th>reviews_per_month</th>\n",
       "      <th>calculated_host_listings_count</th>\n",
       "      <th>availability_365</th>\n",
       "      <th>name_polarity_scores</th>\n",
       "    </tr>\n",
       "  </thead>\n",
       "  <tbody>\n",
       "    <tr>\n",
       "      <th>4888</th>\n",
       "      <td>3495686</td>\n",
       "      <td>Lofted Murray Hill 1-bedroom w/ spiral staircase</td>\n",
       "      <td>721833</td>\n",
       "      <td>Joshua</td>\n",
       "      <td>Manhattan</td>\n",
       "      <td>Kips Bay</td>\n",
       "      <td>40.74593</td>\n",
       "      <td>-73.97915</td>\n",
       "      <td>Entire home/apt</td>\n",
       "      <td>184</td>\n",
       "      <td>3</td>\n",
       "      <td>0</td>\n",
       "      <td>NaN</td>\n",
       "      <td>0.00</td>\n",
       "      <td>1</td>\n",
       "      <td>0</td>\n",
       "      <td>0.0000</td>\n",
       "    </tr>\n",
       "    <tr>\n",
       "      <th>42318</th>\n",
       "      <td>32843454</td>\n",
       "      <td>Cute, Vintage Studio on UES Close to Express Q</td>\n",
       "      <td>247072396</td>\n",
       "      <td>Andrea</td>\n",
       "      <td>Manhattan</td>\n",
       "      <td>Upper East Side</td>\n",
       "      <td>40.77085</td>\n",
       "      <td>-73.94933</td>\n",
       "      <td>Entire home/apt</td>\n",
       "      <td>250</td>\n",
       "      <td>2</td>\n",
       "      <td>1</td>\n",
       "      <td>2019-04-21</td>\n",
       "      <td>0.38</td>\n",
       "      <td>1</td>\n",
       "      <td>0</td>\n",
       "      <td>0.4588</td>\n",
       "    </tr>\n",
       "    <tr>\n",
       "      <th>30859</th>\n",
       "      <td>23896110</td>\n",
       "      <td>Charming one bedroom / West village</td>\n",
       "      <td>175315624</td>\n",
       "      <td>Shelby</td>\n",
       "      <td>Manhattan</td>\n",
       "      <td>West Village</td>\n",
       "      <td>40.73170</td>\n",
       "      <td>-74.00708</td>\n",
       "      <td>Entire home/apt</td>\n",
       "      <td>163</td>\n",
       "      <td>7</td>\n",
       "      <td>7</td>\n",
       "      <td>2018-07-18</td>\n",
       "      <td>0.48</td>\n",
       "      <td>1</td>\n",
       "      <td>0</td>\n",
       "      <td>0.5859</td>\n",
       "    </tr>\n",
       "  </tbody>\n",
       "</table>\n",
       "</div>"
      ],
      "text/plain": [
       "             id                                              name    host_id  \\\n",
       "4888    3495686  Lofted Murray Hill 1-bedroom w/ spiral staircase     721833   \n",
       "42318  32843454    Cute, Vintage Studio on UES Close to Express Q  247072396   \n",
       "30859  23896110               Charming one bedroom / West village  175315624   \n",
       "\n",
       "      host_name neighbourhood_group    neighbourhood  latitude  longitude  \\\n",
       "4888     Joshua           Manhattan         Kips Bay  40.74593  -73.97915   \n",
       "42318    Andrea           Manhattan  Upper East Side  40.77085  -73.94933   \n",
       "30859    Shelby           Manhattan     West Village  40.73170  -74.00708   \n",
       "\n",
       "             room_type  price  minimum_nights  number_of_reviews last_review  \\\n",
       "4888   Entire home/apt    184               3                  0         NaN   \n",
       "42318  Entire home/apt    250               2                  1  2019-04-21   \n",
       "30859  Entire home/apt    163               7                  7  2018-07-18   \n",
       "\n",
       "       reviews_per_month  calculated_host_listings_count  availability_365  \\\n",
       "4888                0.00                               1                 0   \n",
       "42318               0.38                               1                 0   \n",
       "30859               0.48                               1                 0   \n",
       "\n",
       "       name_polarity_scores  \n",
       "4888                 0.0000  \n",
       "42318                0.4588  \n",
       "30859                0.5859  "
      ]
     },
     "execution_count": 37,
     "metadata": {},
     "output_type": "execute_result"
    }
   ],
   "source": [
    "# Add polarity score data column\n",
    "train_df['name_polarity_scores'] = train_df['name'].apply(lambda x: None if pd.isna(x) else sid.polarity_scores(x)['compound'])\n",
    "\n",
    "train_df.head(3)"
   ]
  },
  {
   "cell_type": "code",
   "execution_count": 38,
   "metadata": {},
   "outputs": [
    {
     "data": {
      "text/html": [
       "<div>\n",
       "<style scoped>\n",
       "    .dataframe tbody tr th:only-of-type {\n",
       "        vertical-align: middle;\n",
       "    }\n",
       "\n",
       "    .dataframe tbody tr th {\n",
       "        vertical-align: top;\n",
       "    }\n",
       "\n",
       "    .dataframe thead th {\n",
       "        text-align: right;\n",
       "    }\n",
       "</style>\n",
       "<table border=\"1\" class=\"dataframe\">\n",
       "  <thead>\n",
       "    <tr style=\"text-align: right;\">\n",
       "      <th></th>\n",
       "      <th>id</th>\n",
       "      <th>name</th>\n",
       "      <th>host_id</th>\n",
       "      <th>host_name</th>\n",
       "      <th>neighbourhood_group</th>\n",
       "      <th>neighbourhood</th>\n",
       "      <th>latitude</th>\n",
       "      <th>longitude</th>\n",
       "      <th>room_type</th>\n",
       "      <th>price</th>\n",
       "      <th>minimum_nights</th>\n",
       "      <th>number_of_reviews</th>\n",
       "      <th>last_review</th>\n",
       "      <th>reviews_per_month</th>\n",
       "      <th>calculated_host_listings_count</th>\n",
       "      <th>availability_365</th>\n",
       "      <th>name_polarity_scores</th>\n",
       "      <th>month_of_last_review</th>\n",
       "    </tr>\n",
       "  </thead>\n",
       "  <tbody>\n",
       "    <tr>\n",
       "      <th>4888</th>\n",
       "      <td>3495686</td>\n",
       "      <td>Lofted Murray Hill 1-bedroom w/ spiral staircase</td>\n",
       "      <td>721833</td>\n",
       "      <td>Joshua</td>\n",
       "      <td>Manhattan</td>\n",
       "      <td>Kips Bay</td>\n",
       "      <td>40.74593</td>\n",
       "      <td>-73.97915</td>\n",
       "      <td>Entire home/apt</td>\n",
       "      <td>184</td>\n",
       "      <td>3</td>\n",
       "      <td>0</td>\n",
       "      <td>NaN</td>\n",
       "      <td>0.00</td>\n",
       "      <td>1</td>\n",
       "      <td>0</td>\n",
       "      <td>0.0000</td>\n",
       "      <td>NaN</td>\n",
       "    </tr>\n",
       "    <tr>\n",
       "      <th>42318</th>\n",
       "      <td>32843454</td>\n",
       "      <td>Cute, Vintage Studio on UES Close to Express Q</td>\n",
       "      <td>247072396</td>\n",
       "      <td>Andrea</td>\n",
       "      <td>Manhattan</td>\n",
       "      <td>Upper East Side</td>\n",
       "      <td>40.77085</td>\n",
       "      <td>-73.94933</td>\n",
       "      <td>Entire home/apt</td>\n",
       "      <td>250</td>\n",
       "      <td>2</td>\n",
       "      <td>1</td>\n",
       "      <td>2019-04-21</td>\n",
       "      <td>0.38</td>\n",
       "      <td>1</td>\n",
       "      <td>0</td>\n",
       "      <td>0.4588</td>\n",
       "      <td>April</td>\n",
       "    </tr>\n",
       "    <tr>\n",
       "      <th>30859</th>\n",
       "      <td>23896110</td>\n",
       "      <td>Charming one bedroom / West village</td>\n",
       "      <td>175315624</td>\n",
       "      <td>Shelby</td>\n",
       "      <td>Manhattan</td>\n",
       "      <td>West Village</td>\n",
       "      <td>40.73170</td>\n",
       "      <td>-74.00708</td>\n",
       "      <td>Entire home/apt</td>\n",
       "      <td>163</td>\n",
       "      <td>7</td>\n",
       "      <td>7</td>\n",
       "      <td>2018-07-18</td>\n",
       "      <td>0.48</td>\n",
       "      <td>1</td>\n",
       "      <td>0</td>\n",
       "      <td>0.5859</td>\n",
       "      <td>July</td>\n",
       "    </tr>\n",
       "  </tbody>\n",
       "</table>\n",
       "</div>"
      ],
      "text/plain": [
       "             id                                              name    host_id  \\\n",
       "4888    3495686  Lofted Murray Hill 1-bedroom w/ spiral staircase     721833   \n",
       "42318  32843454    Cute, Vintage Studio on UES Close to Express Q  247072396   \n",
       "30859  23896110               Charming one bedroom / West village  175315624   \n",
       "\n",
       "      host_name neighbourhood_group    neighbourhood  latitude  longitude  \\\n",
       "4888     Joshua           Manhattan         Kips Bay  40.74593  -73.97915   \n",
       "42318    Andrea           Manhattan  Upper East Side  40.77085  -73.94933   \n",
       "30859    Shelby           Manhattan     West Village  40.73170  -74.00708   \n",
       "\n",
       "             room_type  price  minimum_nights  number_of_reviews last_review  \\\n",
       "4888   Entire home/apt    184               3                  0         NaN   \n",
       "42318  Entire home/apt    250               2                  1  2019-04-21   \n",
       "30859  Entire home/apt    163               7                  7  2018-07-18   \n",
       "\n",
       "       reviews_per_month  calculated_host_listings_count  availability_365  \\\n",
       "4888                0.00                               1                 0   \n",
       "42318               0.38                               1                 0   \n",
       "30859               0.48                               1                 0   \n",
       "\n",
       "       name_polarity_scores month_of_last_review  \n",
       "4888                 0.0000                  NaN  \n",
       "42318                0.4588                April  \n",
       "30859                0.5859                 July  "
      ]
     },
     "execution_count": 38,
     "metadata": {},
     "output_type": "execute_result"
    }
   ],
   "source": [
    "train_df['month_of_last_review'] = train_df['last_review'].apply(lambda x: x if pd.isna(x) else x.split('-')[1])\n",
    "\n",
    "num_to_month_map = {\n",
    "    '01': \"January\", '02': \"February\", '03': \"March\", '04': \"April\",\n",
    "    '05': \"May\", '06': \"June\", '07': \"July\", '08': \"August\",\n",
    "    '09': \"September\", '10': \"October\", '11': \"November\", '12': \"December\"\n",
    "}\n",
    "\n",
    "train_df['month_of_last_review'] = train_df['month_of_last_review'].apply((lambda x: x if pd.isna(x) else num_to_month_map[x]))\n",
    "\n",
    "train_df.head(3)"
   ]
  },
  {
   "cell_type": "markdown",
   "metadata": {
    "deletable": false,
    "editable": false
   },
   "source": [
    "<!-- END QUESTION -->\n",
    "\n",
    "<!-- BEGIN QUESTION -->\n",
    "\n",
    "<div class=\"alert alert-info\">\n",
    "\n",
    "## 5. Preprocessing and transformations <a name=\"5\"></a>\n",
    "rubric={accuracy,reasoning}\n",
    "\n",
    "**Your tasks:**\n",
    "\n",
    "1. Identify different feature types and the transformations you would apply on each feature type. \n",
    "2. Define a column transformer, if necessary. \n",
    "    \n",
    "</div>\n",
    "\n",
    "_Points:_ 4"
   ]
  },
  {
   "cell_type": "code",
   "execution_count": 39,
   "metadata": {},
   "outputs": [],
   "source": [
    "X_train = train_df.drop(columns='reviews_per_month')\n",
    "y_train = train_df['reviews_per_month']\n",
    "X_test = test_df.drop(columns='reviews_per_month')\n",
    "y_test = test_df['reviews_per_month']"
   ]
  },
  {
   "cell_type": "code",
   "execution_count": 40,
   "metadata": {
    "tags": []
   },
   "outputs": [],
   "source": [
    "categorical_features = ['neighbourhood_group', 'room_type',]\n",
    "numeric_features = ['latitude', \n",
    "                'longitude', \n",
    "                'minimum_nights', \n",
    "                'number_of_reviews', \n",
    "                'calculated_host_listings_count', \n",
    "                'availability_365'\n",
    "                ]\n",
    "drop_features = ['id', 'host_id', 'host_name', 'name', 'neighbourhood']\n",
    "\n",
    "categorical_transformer = make_pipeline(\n",
    "    SimpleImputer(strategy=\"constant\", fill_value=\"missing\"),\n",
    "    OneHotEncoder(handle_unknown=\"ignore\", sparse_output=False),\n",
    ")\n",
    "\n",
    "numeric_transformer = make_pipeline(\n",
    "    SimpleImputer(strategy=\"median\"), \n",
    "    StandardScaler()\n",
    ")\n",
    "\n",
    "preprocessor = make_column_transformer(\n",
    "    (numeric_transformer, numeric_features),\n",
    "    (categorical_transformer, categorical_features),\n",
    "    (\"drop\", drop_features)\n",
    ")"
   ]
  },
  {
   "cell_type": "code",
   "execution_count": 41,
   "metadata": {
    "tags": []
   },
   "outputs": [
    {
     "data": {
      "text/html": [
       "<style>#sk-container-id-2 {\n",
       "  /* Definition of color scheme common for light and dark mode */\n",
       "  --sklearn-color-text: black;\n",
       "  --sklearn-color-line: gray;\n",
       "  /* Definition of color scheme for unfitted estimators */\n",
       "  --sklearn-color-unfitted-level-0: #fff5e6;\n",
       "  --sklearn-color-unfitted-level-1: #f6e4d2;\n",
       "  --sklearn-color-unfitted-level-2: #ffe0b3;\n",
       "  --sklearn-color-unfitted-level-3: chocolate;\n",
       "  /* Definition of color scheme for fitted estimators */\n",
       "  --sklearn-color-fitted-level-0: #f0f8ff;\n",
       "  --sklearn-color-fitted-level-1: #d4ebff;\n",
       "  --sklearn-color-fitted-level-2: #b3dbfd;\n",
       "  --sklearn-color-fitted-level-3: cornflowerblue;\n",
       "\n",
       "  /* Specific color for light theme */\n",
       "  --sklearn-color-text-on-default-background: var(--sg-text-color, var(--theme-code-foreground, var(--jp-content-font-color1, black)));\n",
       "  --sklearn-color-background: var(--sg-background-color, var(--theme-background, var(--jp-layout-color0, white)));\n",
       "  --sklearn-color-border-box: var(--sg-text-color, var(--theme-code-foreground, var(--jp-content-font-color1, black)));\n",
       "  --sklearn-color-icon: #696969;\n",
       "\n",
       "  @media (prefers-color-scheme: dark) {\n",
       "    /* Redefinition of color scheme for dark theme */\n",
       "    --sklearn-color-text-on-default-background: var(--sg-text-color, var(--theme-code-foreground, var(--jp-content-font-color1, white)));\n",
       "    --sklearn-color-background: var(--sg-background-color, var(--theme-background, var(--jp-layout-color0, #111)));\n",
       "    --sklearn-color-border-box: var(--sg-text-color, var(--theme-code-foreground, var(--jp-content-font-color1, white)));\n",
       "    --sklearn-color-icon: #878787;\n",
       "  }\n",
       "}\n",
       "\n",
       "#sk-container-id-2 {\n",
       "  color: var(--sklearn-color-text);\n",
       "}\n",
       "\n",
       "#sk-container-id-2 pre {\n",
       "  padding: 0;\n",
       "}\n",
       "\n",
       "#sk-container-id-2 input.sk-hidden--visually {\n",
       "  border: 0;\n",
       "  clip: rect(1px 1px 1px 1px);\n",
       "  clip: rect(1px, 1px, 1px, 1px);\n",
       "  height: 1px;\n",
       "  margin: -1px;\n",
       "  overflow: hidden;\n",
       "  padding: 0;\n",
       "  position: absolute;\n",
       "  width: 1px;\n",
       "}\n",
       "\n",
       "#sk-container-id-2 div.sk-dashed-wrapped {\n",
       "  border: 1px dashed var(--sklearn-color-line);\n",
       "  margin: 0 0.4em 0.5em 0.4em;\n",
       "  box-sizing: border-box;\n",
       "  padding-bottom: 0.4em;\n",
       "  background-color: var(--sklearn-color-background);\n",
       "}\n",
       "\n",
       "#sk-container-id-2 div.sk-container {\n",
       "  /* jupyter's `normalize.less` sets `[hidden] { display: none; }`\n",
       "     but bootstrap.min.css set `[hidden] { display: none !important; }`\n",
       "     so we also need the `!important` here to be able to override the\n",
       "     default hidden behavior on the sphinx rendered scikit-learn.org.\n",
       "     See: https://github.com/scikit-learn/scikit-learn/issues/21755 */\n",
       "  display: inline-block !important;\n",
       "  position: relative;\n",
       "}\n",
       "\n",
       "#sk-container-id-2 div.sk-text-repr-fallback {\n",
       "  display: none;\n",
       "}\n",
       "\n",
       "div.sk-parallel-item,\n",
       "div.sk-serial,\n",
       "div.sk-item {\n",
       "  /* draw centered vertical line to link estimators */\n",
       "  background-image: linear-gradient(var(--sklearn-color-text-on-default-background), var(--sklearn-color-text-on-default-background));\n",
       "  background-size: 2px 100%;\n",
       "  background-repeat: no-repeat;\n",
       "  background-position: center center;\n",
       "}\n",
       "\n",
       "/* Parallel-specific style estimator block */\n",
       "\n",
       "#sk-container-id-2 div.sk-parallel-item::after {\n",
       "  content: \"\";\n",
       "  width: 100%;\n",
       "  border-bottom: 2px solid var(--sklearn-color-text-on-default-background);\n",
       "  flex-grow: 1;\n",
       "}\n",
       "\n",
       "#sk-container-id-2 div.sk-parallel {\n",
       "  display: flex;\n",
       "  align-items: stretch;\n",
       "  justify-content: center;\n",
       "  background-color: var(--sklearn-color-background);\n",
       "  position: relative;\n",
       "}\n",
       "\n",
       "#sk-container-id-2 div.sk-parallel-item {\n",
       "  display: flex;\n",
       "  flex-direction: column;\n",
       "}\n",
       "\n",
       "#sk-container-id-2 div.sk-parallel-item:first-child::after {\n",
       "  align-self: flex-end;\n",
       "  width: 50%;\n",
       "}\n",
       "\n",
       "#sk-container-id-2 div.sk-parallel-item:last-child::after {\n",
       "  align-self: flex-start;\n",
       "  width: 50%;\n",
       "}\n",
       "\n",
       "#sk-container-id-2 div.sk-parallel-item:only-child::after {\n",
       "  width: 0;\n",
       "}\n",
       "\n",
       "/* Serial-specific style estimator block */\n",
       "\n",
       "#sk-container-id-2 div.sk-serial {\n",
       "  display: flex;\n",
       "  flex-direction: column;\n",
       "  align-items: center;\n",
       "  background-color: var(--sklearn-color-background);\n",
       "  padding-right: 1em;\n",
       "  padding-left: 1em;\n",
       "}\n",
       "\n",
       "\n",
       "/* Toggleable style: style used for estimator/Pipeline/ColumnTransformer box that is\n",
       "clickable and can be expanded/collapsed.\n",
       "- Pipeline and ColumnTransformer use this feature and define the default style\n",
       "- Estimators will overwrite some part of the style using the `sk-estimator` class\n",
       "*/\n",
       "\n",
       "/* Pipeline and ColumnTransformer style (default) */\n",
       "\n",
       "#sk-container-id-2 div.sk-toggleable {\n",
       "  /* Default theme specific background. It is overwritten whether we have a\n",
       "  specific estimator or a Pipeline/ColumnTransformer */\n",
       "  background-color: var(--sklearn-color-background);\n",
       "}\n",
       "\n",
       "/* Toggleable label */\n",
       "#sk-container-id-2 label.sk-toggleable__label {\n",
       "  cursor: pointer;\n",
       "  display: block;\n",
       "  width: 100%;\n",
       "  margin-bottom: 0;\n",
       "  padding: 0.5em;\n",
       "  box-sizing: border-box;\n",
       "  text-align: center;\n",
       "}\n",
       "\n",
       "#sk-container-id-2 label.sk-toggleable__label-arrow:before {\n",
       "  /* Arrow on the left of the label */\n",
       "  content: \"▸\";\n",
       "  float: left;\n",
       "  margin-right: 0.25em;\n",
       "  color: var(--sklearn-color-icon);\n",
       "}\n",
       "\n",
       "#sk-container-id-2 label.sk-toggleable__label-arrow:hover:before {\n",
       "  color: var(--sklearn-color-text);\n",
       "}\n",
       "\n",
       "/* Toggleable content - dropdown */\n",
       "\n",
       "#sk-container-id-2 div.sk-toggleable__content {\n",
       "  max-height: 0;\n",
       "  max-width: 0;\n",
       "  overflow: hidden;\n",
       "  text-align: left;\n",
       "  /* unfitted */\n",
       "  background-color: var(--sklearn-color-unfitted-level-0);\n",
       "}\n",
       "\n",
       "#sk-container-id-2 div.sk-toggleable__content.fitted {\n",
       "  /* fitted */\n",
       "  background-color: var(--sklearn-color-fitted-level-0);\n",
       "}\n",
       "\n",
       "#sk-container-id-2 div.sk-toggleable__content pre {\n",
       "  margin: 0.2em;\n",
       "  border-radius: 0.25em;\n",
       "  color: var(--sklearn-color-text);\n",
       "  /* unfitted */\n",
       "  background-color: var(--sklearn-color-unfitted-level-0);\n",
       "}\n",
       "\n",
       "#sk-container-id-2 div.sk-toggleable__content.fitted pre {\n",
       "  /* unfitted */\n",
       "  background-color: var(--sklearn-color-fitted-level-0);\n",
       "}\n",
       "\n",
       "#sk-container-id-2 input.sk-toggleable__control:checked~div.sk-toggleable__content {\n",
       "  /* Expand drop-down */\n",
       "  max-height: 200px;\n",
       "  max-width: 100%;\n",
       "  overflow: auto;\n",
       "}\n",
       "\n",
       "#sk-container-id-2 input.sk-toggleable__control:checked~label.sk-toggleable__label-arrow:before {\n",
       "  content: \"▾\";\n",
       "}\n",
       "\n",
       "/* Pipeline/ColumnTransformer-specific style */\n",
       "\n",
       "#sk-container-id-2 div.sk-label input.sk-toggleable__control:checked~label.sk-toggleable__label {\n",
       "  color: var(--sklearn-color-text);\n",
       "  background-color: var(--sklearn-color-unfitted-level-2);\n",
       "}\n",
       "\n",
       "#sk-container-id-2 div.sk-label.fitted input.sk-toggleable__control:checked~label.sk-toggleable__label {\n",
       "  background-color: var(--sklearn-color-fitted-level-2);\n",
       "}\n",
       "\n",
       "/* Estimator-specific style */\n",
       "\n",
       "/* Colorize estimator box */\n",
       "#sk-container-id-2 div.sk-estimator input.sk-toggleable__control:checked~label.sk-toggleable__label {\n",
       "  /* unfitted */\n",
       "  background-color: var(--sklearn-color-unfitted-level-2);\n",
       "}\n",
       "\n",
       "#sk-container-id-2 div.sk-estimator.fitted input.sk-toggleable__control:checked~label.sk-toggleable__label {\n",
       "  /* fitted */\n",
       "  background-color: var(--sklearn-color-fitted-level-2);\n",
       "}\n",
       "\n",
       "#sk-container-id-2 div.sk-label label.sk-toggleable__label,\n",
       "#sk-container-id-2 div.sk-label label {\n",
       "  /* The background is the default theme color */\n",
       "  color: var(--sklearn-color-text-on-default-background);\n",
       "}\n",
       "\n",
       "/* On hover, darken the color of the background */\n",
       "#sk-container-id-2 div.sk-label:hover label.sk-toggleable__label {\n",
       "  color: var(--sklearn-color-text);\n",
       "  background-color: var(--sklearn-color-unfitted-level-2);\n",
       "}\n",
       "\n",
       "/* Label box, darken color on hover, fitted */\n",
       "#sk-container-id-2 div.sk-label.fitted:hover label.sk-toggleable__label.fitted {\n",
       "  color: var(--sklearn-color-text);\n",
       "  background-color: var(--sklearn-color-fitted-level-2);\n",
       "}\n",
       "\n",
       "/* Estimator label */\n",
       "\n",
       "#sk-container-id-2 div.sk-label label {\n",
       "  font-family: monospace;\n",
       "  font-weight: bold;\n",
       "  display: inline-block;\n",
       "  line-height: 1.2em;\n",
       "}\n",
       "\n",
       "#sk-container-id-2 div.sk-label-container {\n",
       "  text-align: center;\n",
       "}\n",
       "\n",
       "/* Estimator-specific */\n",
       "#sk-container-id-2 div.sk-estimator {\n",
       "  font-family: monospace;\n",
       "  border: 1px dotted var(--sklearn-color-border-box);\n",
       "  border-radius: 0.25em;\n",
       "  box-sizing: border-box;\n",
       "  margin-bottom: 0.5em;\n",
       "  /* unfitted */\n",
       "  background-color: var(--sklearn-color-unfitted-level-0);\n",
       "}\n",
       "\n",
       "#sk-container-id-2 div.sk-estimator.fitted {\n",
       "  /* fitted */\n",
       "  background-color: var(--sklearn-color-fitted-level-0);\n",
       "}\n",
       "\n",
       "/* on hover */\n",
       "#sk-container-id-2 div.sk-estimator:hover {\n",
       "  /* unfitted */\n",
       "  background-color: var(--sklearn-color-unfitted-level-2);\n",
       "}\n",
       "\n",
       "#sk-container-id-2 div.sk-estimator.fitted:hover {\n",
       "  /* fitted */\n",
       "  background-color: var(--sklearn-color-fitted-level-2);\n",
       "}\n",
       "\n",
       "/* Specification for estimator info (e.g. \"i\" and \"?\") */\n",
       "\n",
       "/* Common style for \"i\" and \"?\" */\n",
       "\n",
       ".sk-estimator-doc-link,\n",
       "a:link.sk-estimator-doc-link,\n",
       "a:visited.sk-estimator-doc-link {\n",
       "  float: right;\n",
       "  font-size: smaller;\n",
       "  line-height: 1em;\n",
       "  font-family: monospace;\n",
       "  background-color: var(--sklearn-color-background);\n",
       "  border-radius: 1em;\n",
       "  height: 1em;\n",
       "  width: 1em;\n",
       "  text-decoration: none !important;\n",
       "  margin-left: 1ex;\n",
       "  /* unfitted */\n",
       "  border: var(--sklearn-color-unfitted-level-1) 1pt solid;\n",
       "  color: var(--sklearn-color-unfitted-level-1);\n",
       "}\n",
       "\n",
       ".sk-estimator-doc-link.fitted,\n",
       "a:link.sk-estimator-doc-link.fitted,\n",
       "a:visited.sk-estimator-doc-link.fitted {\n",
       "  /* fitted */\n",
       "  border: var(--sklearn-color-fitted-level-1) 1pt solid;\n",
       "  color: var(--sklearn-color-fitted-level-1);\n",
       "}\n",
       "\n",
       "/* On hover */\n",
       "div.sk-estimator:hover .sk-estimator-doc-link:hover,\n",
       ".sk-estimator-doc-link:hover,\n",
       "div.sk-label-container:hover .sk-estimator-doc-link:hover,\n",
       ".sk-estimator-doc-link:hover {\n",
       "  /* unfitted */\n",
       "  background-color: var(--sklearn-color-unfitted-level-3);\n",
       "  color: var(--sklearn-color-background);\n",
       "  text-decoration: none;\n",
       "}\n",
       "\n",
       "div.sk-estimator.fitted:hover .sk-estimator-doc-link.fitted:hover,\n",
       ".sk-estimator-doc-link.fitted:hover,\n",
       "div.sk-label-container:hover .sk-estimator-doc-link.fitted:hover,\n",
       ".sk-estimator-doc-link.fitted:hover {\n",
       "  /* fitted */\n",
       "  background-color: var(--sklearn-color-fitted-level-3);\n",
       "  color: var(--sklearn-color-background);\n",
       "  text-decoration: none;\n",
       "}\n",
       "\n",
       "/* Span, style for the box shown on hovering the info icon */\n",
       ".sk-estimator-doc-link span {\n",
       "  display: none;\n",
       "  z-index: 9999;\n",
       "  position: relative;\n",
       "  font-weight: normal;\n",
       "  right: .2ex;\n",
       "  padding: .5ex;\n",
       "  margin: .5ex;\n",
       "  width: min-content;\n",
       "  min-width: 20ex;\n",
       "  max-width: 50ex;\n",
       "  color: var(--sklearn-color-text);\n",
       "  box-shadow: 2pt 2pt 4pt #999;\n",
       "  /* unfitted */\n",
       "  background: var(--sklearn-color-unfitted-level-0);\n",
       "  border: .5pt solid var(--sklearn-color-unfitted-level-3);\n",
       "}\n",
       "\n",
       ".sk-estimator-doc-link.fitted span {\n",
       "  /* fitted */\n",
       "  background: var(--sklearn-color-fitted-level-0);\n",
       "  border: var(--sklearn-color-fitted-level-3);\n",
       "}\n",
       "\n",
       ".sk-estimator-doc-link:hover span {\n",
       "  display: block;\n",
       "}\n",
       "\n",
       "/* \"?\"-specific style due to the `<a>` HTML tag */\n",
       "\n",
       "#sk-container-id-2 a.estimator_doc_link {\n",
       "  float: right;\n",
       "  font-size: 1rem;\n",
       "  line-height: 1em;\n",
       "  font-family: monospace;\n",
       "  background-color: var(--sklearn-color-background);\n",
       "  border-radius: 1rem;\n",
       "  height: 1rem;\n",
       "  width: 1rem;\n",
       "  text-decoration: none;\n",
       "  /* unfitted */\n",
       "  color: var(--sklearn-color-unfitted-level-1);\n",
       "  border: var(--sklearn-color-unfitted-level-1) 1pt solid;\n",
       "}\n",
       "\n",
       "#sk-container-id-2 a.estimator_doc_link.fitted {\n",
       "  /* fitted */\n",
       "  border: var(--sklearn-color-fitted-level-1) 1pt solid;\n",
       "  color: var(--sklearn-color-fitted-level-1);\n",
       "}\n",
       "\n",
       "/* On hover */\n",
       "#sk-container-id-2 a.estimator_doc_link:hover {\n",
       "  /* unfitted */\n",
       "  background-color: var(--sklearn-color-unfitted-level-3);\n",
       "  color: var(--sklearn-color-background);\n",
       "  text-decoration: none;\n",
       "}\n",
       "\n",
       "#sk-container-id-2 a.estimator_doc_link.fitted:hover {\n",
       "  /* fitted */\n",
       "  background-color: var(--sklearn-color-fitted-level-3);\n",
       "}\n",
       "</style><div id=\"sk-container-id-2\" class=\"sk-top-container\"><div class=\"sk-text-repr-fallback\"><pre>ColumnTransformer(transformers=[(&#x27;pipeline-1&#x27;,\n",
       "                                 Pipeline(steps=[(&#x27;simpleimputer&#x27;,\n",
       "                                                  SimpleImputer(strategy=&#x27;median&#x27;)),\n",
       "                                                 (&#x27;standardscaler&#x27;,\n",
       "                                                  StandardScaler())]),\n",
       "                                 [&#x27;latitude&#x27;, &#x27;longitude&#x27;, &#x27;minimum_nights&#x27;,\n",
       "                                  &#x27;number_of_reviews&#x27;,\n",
       "                                  &#x27;calculated_host_listings_count&#x27;,\n",
       "                                  &#x27;availability_365&#x27;]),\n",
       "                                (&#x27;pipeline-2&#x27;,\n",
       "                                 Pipeline(steps=[(&#x27;simpleimputer&#x27;,\n",
       "                                                  SimpleImputer(fill_value=&#x27;missing&#x27;,\n",
       "                                                                strategy=&#x27;constant&#x27;)),\n",
       "                                                 (&#x27;onehotencoder&#x27;,\n",
       "                                                  OneHotEncoder(handle_unknown=&#x27;ignore&#x27;,\n",
       "                                                                sparse_output=False))]),\n",
       "                                 [&#x27;neighbourhood_group&#x27;, &#x27;room_type&#x27;]),\n",
       "                                (&#x27;drop&#x27;, &#x27;drop&#x27;,\n",
       "                                 [&#x27;id&#x27;, &#x27;host_id&#x27;, &#x27;host_name&#x27;, &#x27;name&#x27;,\n",
       "                                  &#x27;neighbourhood&#x27;])])</pre><b>In a Jupyter environment, please rerun this cell to show the HTML representation or trust the notebook. <br />On GitHub, the HTML representation is unable to render, please try loading this page with nbviewer.org.</b></div><div class=\"sk-container\" hidden><div class=\"sk-item sk-dashed-wrapped\"><div class=\"sk-label-container\"><div class=\"sk-label fitted sk-toggleable\"><input class=\"sk-toggleable__control sk-hidden--visually\" id=\"sk-estimator-id-10\" type=\"checkbox\" ><label for=\"sk-estimator-id-10\" class=\"sk-toggleable__label fitted sk-toggleable__label-arrow fitted\">&nbsp;&nbsp;ColumnTransformer<a class=\"sk-estimator-doc-link fitted\" rel=\"noreferrer\" target=\"_blank\" href=\"https://scikit-learn.org/1.5/modules/generated/sklearn.compose.ColumnTransformer.html\">?<span>Documentation for ColumnTransformer</span></a><span class=\"sk-estimator-doc-link fitted\">i<span>Fitted</span></span></label><div class=\"sk-toggleable__content fitted\"><pre>ColumnTransformer(transformers=[(&#x27;pipeline-1&#x27;,\n",
       "                                 Pipeline(steps=[(&#x27;simpleimputer&#x27;,\n",
       "                                                  SimpleImputer(strategy=&#x27;median&#x27;)),\n",
       "                                                 (&#x27;standardscaler&#x27;,\n",
       "                                                  StandardScaler())]),\n",
       "                                 [&#x27;latitude&#x27;, &#x27;longitude&#x27;, &#x27;minimum_nights&#x27;,\n",
       "                                  &#x27;number_of_reviews&#x27;,\n",
       "                                  &#x27;calculated_host_listings_count&#x27;,\n",
       "                                  &#x27;availability_365&#x27;]),\n",
       "                                (&#x27;pipeline-2&#x27;,\n",
       "                                 Pipeline(steps=[(&#x27;simpleimputer&#x27;,\n",
       "                                                  SimpleImputer(fill_value=&#x27;missing&#x27;,\n",
       "                                                                strategy=&#x27;constant&#x27;)),\n",
       "                                                 (&#x27;onehotencoder&#x27;,\n",
       "                                                  OneHotEncoder(handle_unknown=&#x27;ignore&#x27;,\n",
       "                                                                sparse_output=False))]),\n",
       "                                 [&#x27;neighbourhood_group&#x27;, &#x27;room_type&#x27;]),\n",
       "                                (&#x27;drop&#x27;, &#x27;drop&#x27;,\n",
       "                                 [&#x27;id&#x27;, &#x27;host_id&#x27;, &#x27;host_name&#x27;, &#x27;name&#x27;,\n",
       "                                  &#x27;neighbourhood&#x27;])])</pre></div> </div></div><div class=\"sk-parallel\"><div class=\"sk-parallel-item\"><div class=\"sk-item\"><div class=\"sk-label-container\"><div class=\"sk-label fitted sk-toggleable\"><input class=\"sk-toggleable__control sk-hidden--visually\" id=\"sk-estimator-id-11\" type=\"checkbox\" ><label for=\"sk-estimator-id-11\" class=\"sk-toggleable__label fitted sk-toggleable__label-arrow fitted\">pipeline-1</label><div class=\"sk-toggleable__content fitted\"><pre>[&#x27;latitude&#x27;, &#x27;longitude&#x27;, &#x27;minimum_nights&#x27;, &#x27;number_of_reviews&#x27;, &#x27;calculated_host_listings_count&#x27;, &#x27;availability_365&#x27;]</pre></div> </div></div><div class=\"sk-serial\"><div class=\"sk-item\"><div class=\"sk-serial\"><div class=\"sk-item\"><div class=\"sk-estimator fitted sk-toggleable\"><input class=\"sk-toggleable__control sk-hidden--visually\" id=\"sk-estimator-id-12\" type=\"checkbox\" ><label for=\"sk-estimator-id-12\" class=\"sk-toggleable__label fitted sk-toggleable__label-arrow fitted\">&nbsp;SimpleImputer<a class=\"sk-estimator-doc-link fitted\" rel=\"noreferrer\" target=\"_blank\" href=\"https://scikit-learn.org/1.5/modules/generated/sklearn.impute.SimpleImputer.html\">?<span>Documentation for SimpleImputer</span></a></label><div class=\"sk-toggleable__content fitted\"><pre>SimpleImputer(strategy=&#x27;median&#x27;)</pre></div> </div></div><div class=\"sk-item\"><div class=\"sk-estimator fitted sk-toggleable\"><input class=\"sk-toggleable__control sk-hidden--visually\" id=\"sk-estimator-id-13\" type=\"checkbox\" ><label for=\"sk-estimator-id-13\" class=\"sk-toggleable__label fitted sk-toggleable__label-arrow fitted\">&nbsp;StandardScaler<a class=\"sk-estimator-doc-link fitted\" rel=\"noreferrer\" target=\"_blank\" href=\"https://scikit-learn.org/1.5/modules/generated/sklearn.preprocessing.StandardScaler.html\">?<span>Documentation for StandardScaler</span></a></label><div class=\"sk-toggleable__content fitted\"><pre>StandardScaler()</pre></div> </div></div></div></div></div></div></div><div class=\"sk-parallel-item\"><div class=\"sk-item\"><div class=\"sk-label-container\"><div class=\"sk-label fitted sk-toggleable\"><input class=\"sk-toggleable__control sk-hidden--visually\" id=\"sk-estimator-id-14\" type=\"checkbox\" ><label for=\"sk-estimator-id-14\" class=\"sk-toggleable__label fitted sk-toggleable__label-arrow fitted\">pipeline-2</label><div class=\"sk-toggleable__content fitted\"><pre>[&#x27;neighbourhood_group&#x27;, &#x27;room_type&#x27;]</pre></div> </div></div><div class=\"sk-serial\"><div class=\"sk-item\"><div class=\"sk-serial\"><div class=\"sk-item\"><div class=\"sk-estimator fitted sk-toggleable\"><input class=\"sk-toggleable__control sk-hidden--visually\" id=\"sk-estimator-id-15\" type=\"checkbox\" ><label for=\"sk-estimator-id-15\" class=\"sk-toggleable__label fitted sk-toggleable__label-arrow fitted\">&nbsp;SimpleImputer<a class=\"sk-estimator-doc-link fitted\" rel=\"noreferrer\" target=\"_blank\" href=\"https://scikit-learn.org/1.5/modules/generated/sklearn.impute.SimpleImputer.html\">?<span>Documentation for SimpleImputer</span></a></label><div class=\"sk-toggleable__content fitted\"><pre>SimpleImputer(fill_value=&#x27;missing&#x27;, strategy=&#x27;constant&#x27;)</pre></div> </div></div><div class=\"sk-item\"><div class=\"sk-estimator fitted sk-toggleable\"><input class=\"sk-toggleable__control sk-hidden--visually\" id=\"sk-estimator-id-16\" type=\"checkbox\" ><label for=\"sk-estimator-id-16\" class=\"sk-toggleable__label fitted sk-toggleable__label-arrow fitted\">&nbsp;OneHotEncoder<a class=\"sk-estimator-doc-link fitted\" rel=\"noreferrer\" target=\"_blank\" href=\"https://scikit-learn.org/1.5/modules/generated/sklearn.preprocessing.OneHotEncoder.html\">?<span>Documentation for OneHotEncoder</span></a></label><div class=\"sk-toggleable__content fitted\"><pre>OneHotEncoder(handle_unknown=&#x27;ignore&#x27;, sparse_output=False)</pre></div> </div></div></div></div></div></div></div><div class=\"sk-parallel-item\"><div class=\"sk-item\"><div class=\"sk-label-container\"><div class=\"sk-label fitted sk-toggleable\"><input class=\"sk-toggleable__control sk-hidden--visually\" id=\"sk-estimator-id-17\" type=\"checkbox\" ><label for=\"sk-estimator-id-17\" class=\"sk-toggleable__label fitted sk-toggleable__label-arrow fitted\">drop</label><div class=\"sk-toggleable__content fitted\"><pre>[&#x27;id&#x27;, &#x27;host_id&#x27;, &#x27;host_name&#x27;, &#x27;name&#x27;, &#x27;neighbourhood&#x27;]</pre></div> </div></div><div class=\"sk-serial\"><div class=\"sk-item\"><div class=\"sk-estimator fitted sk-toggleable\"><input class=\"sk-toggleable__control sk-hidden--visually\" id=\"sk-estimator-id-18\" type=\"checkbox\" ><label for=\"sk-estimator-id-18\" class=\"sk-toggleable__label fitted sk-toggleable__label-arrow fitted\">drop</label><div class=\"sk-toggleable__content fitted\"><pre>drop</pre></div> </div></div></div></div></div></div></div></div></div>"
      ],
      "text/plain": [
       "ColumnTransformer(transformers=[('pipeline-1',\n",
       "                                 Pipeline(steps=[('simpleimputer',\n",
       "                                                  SimpleImputer(strategy='median')),\n",
       "                                                 ('standardscaler',\n",
       "                                                  StandardScaler())]),\n",
       "                                 ['latitude', 'longitude', 'minimum_nights',\n",
       "                                  'number_of_reviews',\n",
       "                                  'calculated_host_listings_count',\n",
       "                                  'availability_365']),\n",
       "                                ('pipeline-2',\n",
       "                                 Pipeline(steps=[('simpleimputer',\n",
       "                                                  SimpleImputer(fill_value='missing',\n",
       "                                                                strategy='constant')),\n",
       "                                                 ('onehotencoder',\n",
       "                                                  OneHotEncoder(handle_unknown='ignore',\n",
       "                                                                sparse_output=False))]),\n",
       "                                 ['neighbourhood_group', 'room_type']),\n",
       "                                ('drop', 'drop',\n",
       "                                 ['id', 'host_id', 'host_name', 'name',\n",
       "                                  'neighbourhood'])])"
      ]
     },
     "execution_count": 41,
     "metadata": {},
     "output_type": "execute_result"
    }
   ],
   "source": [
    "preprocessor.fit(X_train) "
   ]
  },
  {
   "cell_type": "markdown",
   "metadata": {
    "deletable": false,
    "editable": false
   },
   "source": [
    "<!-- END QUESTION -->\n",
    "\n",
    "<!-- BEGIN QUESTION -->\n",
    "\n",
    "<div class=\"alert alert-info\">\n",
    "\n",
    "## 6. Baseline model <a name=\"6\"></a>\n",
    "rubric={accuracy}\n",
    "\n",
    "**Your tasks:**\n",
    "1. Train a baseline model for your task and report its performance.\n",
    "    \n",
    "</div>\n",
    "\n",
    "_Points:_ 2"
   ]
  },
  {
   "cell_type": "code",
   "execution_count": 42,
   "metadata": {
    "tags": []
   },
   "outputs": [
    {
     "data": {
      "text/html": [
       "<div>\n",
       "<style scoped>\n",
       "    .dataframe tbody tr th:only-of-type {\n",
       "        vertical-align: middle;\n",
       "    }\n",
       "\n",
       "    .dataframe tbody tr th {\n",
       "        vertical-align: top;\n",
       "    }\n",
       "\n",
       "    .dataframe thead th {\n",
       "        text-align: right;\n",
       "    }\n",
       "</style>\n",
       "<table border=\"1\" class=\"dataframe\">\n",
       "  <thead>\n",
       "    <tr style=\"text-align: right;\">\n",
       "      <th></th>\n",
       "      <th>0</th>\n",
       "    </tr>\n",
       "  </thead>\n",
       "  <tbody>\n",
       "    <tr>\n",
       "      <th>fit_time</th>\n",
       "      <td>0.001 (+/- 0.000)</td>\n",
       "    </tr>\n",
       "    <tr>\n",
       "      <th>score_time</th>\n",
       "      <td>0.001 (+/- 0.000)</td>\n",
       "    </tr>\n",
       "    <tr>\n",
       "      <th>test_R2</th>\n",
       "      <td>-0.000 (+/- 0.000)</td>\n",
       "    </tr>\n",
       "    <tr>\n",
       "      <th>train_R2</th>\n",
       "      <td>0.000 (+/- 0.000)</td>\n",
       "    </tr>\n",
       "    <tr>\n",
       "      <th>test_Neg RMSE</th>\n",
       "      <td>-1.593 (+/- 0.065)</td>\n",
       "    </tr>\n",
       "    <tr>\n",
       "      <th>train_Neg RMSE</th>\n",
       "      <td>-1.594 (+/- 0.017)</td>\n",
       "    </tr>\n",
       "  </tbody>\n",
       "</table>\n",
       "</div>"
      ],
      "text/plain": [
       "                                 0\n",
       "fit_time         0.001 (+/- 0.000)\n",
       "score_time       0.001 (+/- 0.000)\n",
       "test_R2         -0.000 (+/- 0.000)\n",
       "train_R2         0.000 (+/- 0.000)\n",
       "test_Neg RMSE   -1.593 (+/- 0.065)\n",
       "train_Neg RMSE  -1.594 (+/- 0.017)"
      ]
     },
     "execution_count": 42,
     "metadata": {},
     "output_type": "execute_result"
    }
   ],
   "source": [
    "dummy = DummyRegressor()\n",
    "scoring_metric = {\n",
    "    \"R2\": \"r2\",\n",
    "    \"Neg RMSE\": \"neg_root_mean_squared_error\",\n",
    "}\n",
    "results = {}\n",
    "\n",
    "results[\"Dummy\"] = pd.DataFrame(mean_std_cross_val_scores(\n",
    "    dummy, X_train, y_train, return_train_score=True, scoring=scoring_metric\n",
    "))\n",
    "results[\"Dummy\"]\n"
   ]
  },
  {
   "cell_type": "markdown",
   "metadata": {
    "deletable": false,
    "editable": false
   },
   "source": [
    "<!-- END QUESTION -->\n",
    "\n",
    "<!-- BEGIN QUESTION -->\n",
    "\n",
    "<div class=\"alert alert-info\">\n",
    "\n",
    "## 7. Linear models <a name=\"7\"></a>\n",
    "rubric={accuracy,reasoning}\n",
    "\n",
    "**Your tasks:**\n",
    "\n",
    "1. Try a linear model as a first real attempt. \n",
    "2. Carry out hyperparameter tuning to explore different values for the regularization hyperparameter. \n",
    "3. Report cross-validation scores along with standard deviation. \n",
    "4. Summarize your results.\n",
    "    \n",
    "</div>\n",
    "\n",
    "_Points:_ 8"
   ]
  },
  {
   "cell_type": "markdown",
   "metadata": {},
   "source": [
    "_Type your answer here, replacing this text._"
   ]
  },
  {
   "cell_type": "code",
   "execution_count": 43,
   "metadata": {
    "tags": []
   },
   "outputs": [
    {
     "name": "stderr",
     "output_type": "stream",
     "text": [
      "/Users/brianchang/miniforge3/envs/573/lib/python3.12/site-packages/sklearn/linear_model/_ridge.py:216: LinAlgWarning: Ill-conditioned matrix (rcond=1.05978e-16): result may not be accurate.\n",
      "  return linalg.solve(A, Xy, assume_a=\"pos\", overwrite_a=True).T\n",
      "/Users/brianchang/miniforge3/envs/573/lib/python3.12/site-packages/sklearn/linear_model/_ridge.py:216: LinAlgWarning: Ill-conditioned matrix (rcond=1.08576e-16): result may not be accurate.\n",
      "  return linalg.solve(A, Xy, assume_a=\"pos\", overwrite_a=True).T\n",
      "/Users/brianchang/miniforge3/envs/573/lib/python3.12/site-packages/sklearn/linear_model/_ridge.py:216: LinAlgWarning: Ill-conditioned matrix (rcond=1.09152e-16): result may not be accurate.\n",
      "  return linalg.solve(A, Xy, assume_a=\"pos\", overwrite_a=True).T\n",
      "/Users/brianchang/miniforge3/envs/573/lib/python3.12/site-packages/sklearn/linear_model/_ridge.py:216: LinAlgWarning: Ill-conditioned matrix (rcond=9.06393e-17): result may not be accurate.\n",
      "  return linalg.solve(A, Xy, assume_a=\"pos\", overwrite_a=True).T\n",
      "/Users/brianchang/miniforge3/envs/573/lib/python3.12/site-packages/sklearn/linear_model/_ridge.py:216: LinAlgWarning: Ill-conditioned matrix (rcond=1.03159e-16): result may not be accurate.\n",
      "  return linalg.solve(A, Xy, assume_a=\"pos\", overwrite_a=True).T\n",
      "/Users/brianchang/miniforge3/envs/573/lib/python3.12/site-packages/sklearn/linear_model/_ridge.py:216: LinAlgWarning: Ill-conditioned matrix (rcond=1.07666e-16): result may not be accurate.\n",
      "  return linalg.solve(A, Xy, assume_a=\"pos\", overwrite_a=True).T\n"
     ]
    },
    {
     "data": {
      "text/html": [
       "<div>\n",
       "<style scoped>\n",
       "    .dataframe tbody tr th:only-of-type {\n",
       "        vertical-align: middle;\n",
       "    }\n",
       "\n",
       "    .dataframe tbody tr th {\n",
       "        vertical-align: top;\n",
       "    }\n",
       "\n",
       "    .dataframe thead th {\n",
       "        text-align: right;\n",
       "    }\n",
       "</style>\n",
       "<table border=\"1\" class=\"dataframe\">\n",
       "  <thead>\n",
       "    <tr style=\"text-align: right;\">\n",
       "      <th></th>\n",
       "      <th>0</th>\n",
       "    </tr>\n",
       "  </thead>\n",
       "  <tbody>\n",
       "    <tr>\n",
       "      <th>fit_time</th>\n",
       "      <td>1.050 (+/- 0.044)</td>\n",
       "    </tr>\n",
       "    <tr>\n",
       "      <th>score_time</th>\n",
       "      <td>0.005 (+/- 0.000)</td>\n",
       "    </tr>\n",
       "    <tr>\n",
       "      <th>test_R2</th>\n",
       "      <td>0.438 (+/- 0.029)</td>\n",
       "    </tr>\n",
       "    <tr>\n",
       "      <th>train_R2</th>\n",
       "      <td>0.449 (+/- 0.007)</td>\n",
       "    </tr>\n",
       "    <tr>\n",
       "      <th>test_Neg RMSE</th>\n",
       "      <td>-1.194 (+/- 0.075)</td>\n",
       "    </tr>\n",
       "    <tr>\n",
       "      <th>train_Neg RMSE</th>\n",
       "      <td>-1.183 (+/- 0.019)</td>\n",
       "    </tr>\n",
       "  </tbody>\n",
       "</table>\n",
       "</div>"
      ],
      "text/plain": [
       "                                 0\n",
       "fit_time         1.050 (+/- 0.044)\n",
       "score_time       0.005 (+/- 0.000)\n",
       "test_R2          0.438 (+/- 0.029)\n",
       "train_R2         0.449 (+/- 0.007)\n",
       "test_Neg RMSE   -1.194 (+/- 0.075)\n",
       "train_Neg RMSE  -1.183 (+/- 0.019)"
      ]
     },
     "execution_count": 43,
     "metadata": {},
     "output_type": "execute_result"
    }
   ],
   "source": [
    "alpha_vals =  np.logspace(-8, 8, 10)\n",
    "\n",
    "ridge = make_pipeline(\n",
    "    preprocessor,\n",
    "    PolynomialFeatures(degree=2),\n",
    "    RidgeCV(alphas = alpha_vals, cv=10)\n",
    ")\n",
    "\n",
    "results[\"RidgeCV\"] = pd.DataFrame(mean_std_cross_val_scores(\n",
    "    ridge, X_train, y_train, return_train_score=True, scoring=scoring_metric\n",
    "))\n",
    "results[\"RidgeCV\"]"
   ]
  },
  {
   "cell_type": "code",
   "execution_count": 44,
   "metadata": {
    "tags": []
   },
   "outputs": [
    {
     "data": {
      "text/plain": [
       "Ellipsis"
      ]
     },
     "execution_count": 44,
     "metadata": {},
     "output_type": "execute_result"
    }
   ],
   "source": [
    "..."
   ]
  },
  {
   "cell_type": "code",
   "execution_count": 45,
   "metadata": {
    "tags": []
   },
   "outputs": [
    {
     "data": {
      "text/plain": [
       "Ellipsis"
      ]
     },
     "execution_count": 45,
     "metadata": {},
     "output_type": "execute_result"
    }
   ],
   "source": [
    "..."
   ]
  },
  {
   "cell_type": "code",
   "execution_count": 46,
   "metadata": {
    "tags": []
   },
   "outputs": [
    {
     "data": {
      "text/plain": [
       "Ellipsis"
      ]
     },
     "execution_count": 46,
     "metadata": {},
     "output_type": "execute_result"
    }
   ],
   "source": [
    "..."
   ]
  },
  {
   "cell_type": "markdown",
   "metadata": {
    "deletable": false,
    "editable": false
   },
   "source": [
    "<!-- END QUESTION -->\n",
    "\n",
    "<!-- BEGIN QUESTION -->\n",
    "\n",
    "<div class=\"alert alert-info\">\n",
    "\n",
    "## 8. Different models <a name=\"8\"></a>\n",
    "rubric={accuracy,reasoning}\n",
    "\n",
    "**Your tasks:**\n",
    "1. Try out three other models aside from the linear model. \n",
    "2. Summarize your results in terms of overfitting/underfitting and fit and score times. Can you beat the performance of the linear model? \n",
    "    \n",
    "</div>\n",
    "\n",
    "_Points:_ 10"
   ]
  },
  {
   "cell_type": "markdown",
   "metadata": {},
   "source": [
    "_Type your answer here, replacing this text._"
   ]
  },
  {
   "cell_type": "code",
   "execution_count": 47,
   "metadata": {
    "tags": []
   },
   "outputs": [
    {
     "name": "stdout",
     "output_type": "stream",
     "text": [
      "[LightGBM] [Info] Auto-choosing col-wise multi-threading, the overhead of testing was 0.001505 seconds.\n",
      "You can set `force_col_wise=true` to remove the overhead.\n",
      "[LightGBM] [Info] Total Bins 12964\n",
      "[LightGBM] [Info] Number of data points in the train set: 29336, number of used features: 105\n",
      "[LightGBM] [Info] Start training from score 1.086381\n",
      "[LightGBM] [Info] Auto-choosing col-wise multi-threading, the overhead of testing was 0.001463 seconds.\n",
      "You can set `force_col_wise=true` to remove the overhead.\n",
      "[LightGBM] [Info] Total Bins 12964\n",
      "[LightGBM] [Info] Number of data points in the train set: 29337, number of used features: 105\n",
      "[LightGBM] [Info] Start training from score 1.086454\n",
      "[LightGBM] [Info] Auto-choosing col-wise multi-threading, the overhead of testing was 0.002119 seconds.\n",
      "You can set `force_col_wise=true` to remove the overhead.\n",
      "[LightGBM] [Info] Total Bins 12928\n",
      "[LightGBM] [Info] Number of data points in the train set: 29337, number of used features: 105\n",
      "[LightGBM] [Info] Start training from score 1.083442\n",
      "[LightGBM] [Info] Auto-choosing col-wise multi-threading, the overhead of testing was 0.001123 seconds.\n",
      "You can set `force_col_wise=true` to remove the overhead.\n",
      "[LightGBM] [Info] Total Bins 12948\n",
      "[LightGBM] [Info] Number of data points in the train set: 29337, number of used features: 105\n",
      "[LightGBM] [Info] Start training from score 1.086966\n",
      "[LightGBM] [Info] Auto-choosing col-wise multi-threading, the overhead of testing was 0.001519 seconds.\n",
      "You can set `force_col_wise=true` to remove the overhead.\n",
      "[LightGBM] [Info] Total Bins 12973\n",
      "[LightGBM] [Info] Number of data points in the train set: 29337, number of used features: 105\n",
      "[LightGBM] [Info] Start training from score 1.088227\n"
     ]
    }
   ],
   "source": [
    "# LGBM\n",
    "from lightgbm.sklearn import LGBMRegressor\n",
    "results = {}\n",
    "scoring_metric = {\n",
    "    \"R2\": \"r2\",\n",
    "    \"Neg RMSE\": \"neg_root_mean_squared_error\"\n",
    "}\n",
    "\n",
    "pipe_lgbm = make_pipeline(\n",
    "    preprocessor,\n",
    "    PolynomialFeatures(degree=2),\n",
    "    LGBMRegressor(\n",
    "        n_jobs=-1,\n",
    "        random_state=573\n",
    "    )\n",
    ")\n",
    "\n",
    "results['lgbm'] = mean_std_cross_val_scores(\n",
    "    pipe_lgbm, X_train, y_train, return_train_score=True, scoring=scoring_metric\n",
    ")"
   ]
  },
  {
   "cell_type": "code",
   "execution_count": 48,
   "metadata": {},
   "outputs": [],
   "source": [
    "# Random Forest\n",
    "# Code adapted from Lecture 7: https://pages.github.ubc.ca/mds-2024-25/DSCI_573_feat-model-select_students/lectures/07_ensembles.html#random-forests\n",
    "from sklearn.ensemble import RandomForestRegressor\n",
    "\n",
    "pipe_rf = make_pipeline(\n",
    "    preprocessor,\n",
    "    PolynomialFeatures(degree=2),\n",
    "    RandomForestRegressor(\n",
    "        n_jobs=-1,\n",
    "        random_state=573,\n",
    "    ),\n",
    ")\n",
    "\n",
    "results[\"random_forests\"] = mean_std_cross_val_scores(\n",
    "    pipe_rf, X_train, y_train, return_train_score=True, scoring=scoring_metric\n",
    ")\n"
   ]
  },
  {
   "cell_type": "code",
   "execution_count": 49,
   "metadata": {},
   "outputs": [],
   "source": [
    "# ElasticNet\n",
    "from sklearn.linear_model import ElasticNetCV\n",
    "# 1. Setup the ElasticNet Pipeline\n",
    "elastic = make_pipeline(\n",
    "    preprocessor,\n",
    "    PolynomialFeatures(degree=2),\n",
    "    ElasticNetCV(max_iter=20_000, tol=0.01, cv=10)\n",
    ")\n",
    "\n",
    "# 2. Cross-validation\n",
    "results['elastic_net'] = mean_std_cross_val_scores(\n",
    "    elastic, X_train, y_train, return_train_score=True, scoring=scoring_metric, cv=10\n",
    ")"
   ]
  },
  {
   "cell_type": "markdown",
   "metadata": {
    "deletable": false,
    "editable": false
   },
   "source": [
    "<!-- END QUESTION -->\n",
    "\n",
    "<!-- BEGIN QUESTION -->\n",
    "\n",
    "<div class=\"alert alert-warning\">\n",
    "\n",
    "## 9. Feature selection (Challenging)\n",
    "rubric={reasoning}\n",
    "\n",
    "**Your tasks:**\n",
    "\n",
    "Make some attempts to select relevant features. You may try `RFECV`, forward/backward selection or L1 regularization for this. Do the results improve with feature selection? Summarize your results. If you see improvements in the results, keep feature selection in your pipeline. If not, you may abandon it in the next exercises unless you think there are other benefits with using less features.\n",
    "    \n",
    "</div>\n",
    "\n",
    "_Points:_ 0.5"
   ]
  },
  {
   "cell_type": "markdown",
   "metadata": {},
   "source": [
    "_Type your answer here, replacing this text._"
   ]
  },
  {
   "cell_type": "code",
   "execution_count": 50,
   "metadata": {
    "tags": []
   },
   "outputs": [],
   "source": [
    "# Make the rfecv pipeline\n",
    "pipe_rfe_ridgecv = make_pipeline(\n",
    "    preprocessor,\n",
    "    PolynomialFeatures(degree=2),\n",
    "    RFECV(Ridge(), cv=10, n_jobs=-1), \n",
    "    RidgeCV()\n",
    ")\n",
    "\n",
    "\n",
    "# Get the cv scores\n",
    "results['rfe_ridgecv'] = mean_std_cross_val_scores(\n",
    "    pipe_rfe_ridgecv, X_train, y_train, return_train_score=True, scoring=scoring_metric\n",
    ")"
   ]
  },
  {
   "cell_type": "code",
   "execution_count": 51,
   "metadata": {},
   "outputs": [
    {
     "data": {
      "text/html": [
       "<div>\n",
       "<style scoped>\n",
       "    .dataframe tbody tr th:only-of-type {\n",
       "        vertical-align: middle;\n",
       "    }\n",
       "\n",
       "    .dataframe tbody tr th {\n",
       "        vertical-align: top;\n",
       "    }\n",
       "\n",
       "    .dataframe thead th {\n",
       "        text-align: right;\n",
       "    }\n",
       "</style>\n",
       "<table border=\"1\" class=\"dataframe\">\n",
       "  <thead>\n",
       "    <tr style=\"text-align: right;\">\n",
       "      <th></th>\n",
       "      <th>fit_time</th>\n",
       "      <th>score_time</th>\n",
       "      <th>test_R2</th>\n",
       "      <th>train_R2</th>\n",
       "      <th>test_Neg RMSE</th>\n",
       "      <th>train_Neg RMSE</th>\n",
       "    </tr>\n",
       "  </thead>\n",
       "  <tbody>\n",
       "    <tr>\n",
       "      <th>lgbm</th>\n",
       "      <td>0.695 (+/- 0.010)</td>\n",
       "      <td>0.010 (+/- 0.001)</td>\n",
       "      <td>0.599 (+/- 0.033)</td>\n",
       "      <td>0.701 (+/- 0.006)</td>\n",
       "      <td>-1.009 (+/- 0.081)</td>\n",
       "      <td>-0.871 (+/- 0.017)</td>\n",
       "    </tr>\n",
       "    <tr>\n",
       "      <th>random_forests</th>\n",
       "      <td>4.679 (+/- 0.136)</td>\n",
       "      <td>0.032 (+/- 0.001)</td>\n",
       "      <td>0.581 (+/- 0.033)</td>\n",
       "      <td>0.941 (+/- 0.002)</td>\n",
       "      <td>-1.031 (+/- 0.082)</td>\n",
       "      <td>-0.387 (+/- 0.010)</td>\n",
       "    </tr>\n",
       "    <tr>\n",
       "      <th>elastic_net</th>\n",
       "      <td>1.048 (+/- 0.199)</td>\n",
       "      <td>0.004 (+/- 0.000)</td>\n",
       "      <td>0.444 (+/- 0.038)</td>\n",
       "      <td>0.445 (+/- 0.006)</td>\n",
       "      <td>-1.187 (+/- 0.113)</td>\n",
       "      <td>-1.188 (+/- 0.015)</td>\n",
       "    </tr>\n",
       "    <tr>\n",
       "      <th>rfe_ridgecv</th>\n",
       "      <td>2.538 (+/- 0.788)</td>\n",
       "      <td>0.007 (+/- 0.000)</td>\n",
       "      <td>0.438 (+/- 0.028)</td>\n",
       "      <td>0.450 (+/- 0.008)</td>\n",
       "      <td>-1.194 (+/- 0.073)</td>\n",
       "      <td>-1.182 (+/- 0.020)</td>\n",
       "    </tr>\n",
       "  </tbody>\n",
       "</table>\n",
       "</div>"
      ],
      "text/plain": [
       "                         fit_time         score_time            test_R2  \\\n",
       "lgbm            0.695 (+/- 0.010)  0.010 (+/- 0.001)  0.599 (+/- 0.033)   \n",
       "random_forests  4.679 (+/- 0.136)  0.032 (+/- 0.001)  0.581 (+/- 0.033)   \n",
       "elastic_net     1.048 (+/- 0.199)  0.004 (+/- 0.000)  0.444 (+/- 0.038)   \n",
       "rfe_ridgecv     2.538 (+/- 0.788)  0.007 (+/- 0.000)  0.438 (+/- 0.028)   \n",
       "\n",
       "                         train_R2       test_Neg RMSE      train_Neg RMSE  \n",
       "lgbm            0.701 (+/- 0.006)  -1.009 (+/- 0.081)  -0.871 (+/- 0.017)  \n",
       "random_forests  0.941 (+/- 0.002)  -1.031 (+/- 0.082)  -0.387 (+/- 0.010)  \n",
       "elastic_net     0.445 (+/- 0.006)  -1.187 (+/- 0.113)  -1.188 (+/- 0.015)  \n",
       "rfe_ridgecv     0.450 (+/- 0.008)  -1.194 (+/- 0.073)  -1.182 (+/- 0.020)  "
      ]
     },
     "execution_count": 51,
     "metadata": {},
     "output_type": "execute_result"
    }
   ],
   "source": [
    "pd.DataFrame(results).T"
   ]
  },
  {
   "cell_type": "markdown",
   "metadata": {
    "deletable": false,
    "editable": false
   },
   "source": [
    "<!-- END QUESTION -->\n",
    "\n",
    "<!-- BEGIN QUESTION -->\n",
    "\n",
    "<div class=\"alert alert-info\">\n",
    "\n",
    "## 10. Hyperparameter optimization\n",
    "rubric={accuracy,reasoning}\n",
    "\n",
    "**Your tasks:**\n",
    "\n",
    "Make some attempts to optimize hyperparameters for the models you've tried and summarize your results. In at least one case you should be optimizing multiple hyperparameters for a single model. You may use `sklearn`'s methods for hyperparameter optimization or fancier Bayesian optimization methods.  Briefly summarize your results.\n",
    "  - [GridSearchCV](http://scikit-learn.org/stable/modules/generated/sklearn.model_selection.GridSearchCV.html)   \n",
    "  - [RandomizedSearchCV](http://scikit-learn.org/stable/modules/generated/sklearn.model_selection.RandomizedSearchCV.html)\n",
    "  - [scikit-optimize](https://github.com/scikit-optimize/scikit-optimize) \n",
    "    \n",
    "</div>\n",
    "\n",
    "_Points:_ 6"
   ]
  },
  {
   "cell_type": "markdown",
   "metadata": {},
   "source": [
    "_Type your answer here, replacing this text._"
   ]
  },
  {
   "cell_type": "code",
   "execution_count": 52,
   "metadata": {
    "tags": []
   },
   "outputs": [
    {
     "data": {
      "text/plain": [
       "Ellipsis"
      ]
     },
     "execution_count": 52,
     "metadata": {},
     "output_type": "execute_result"
    }
   ],
   "source": [
    "..."
   ]
  },
  {
   "cell_type": "code",
   "execution_count": 53,
   "metadata": {
    "tags": []
   },
   "outputs": [
    {
     "data": {
      "text/plain": [
       "Ellipsis"
      ]
     },
     "execution_count": 53,
     "metadata": {},
     "output_type": "execute_result"
    }
   ],
   "source": [
    "..."
   ]
  },
  {
   "cell_type": "code",
   "execution_count": 54,
   "metadata": {
    "tags": []
   },
   "outputs": [
    {
     "data": {
      "text/plain": [
       "Ellipsis"
      ]
     },
     "execution_count": 54,
     "metadata": {},
     "output_type": "execute_result"
    }
   ],
   "source": [
    "..."
   ]
  },
  {
   "cell_type": "code",
   "execution_count": 55,
   "metadata": {
    "tags": []
   },
   "outputs": [
    {
     "data": {
      "text/plain": [
       "Ellipsis"
      ]
     },
     "execution_count": 55,
     "metadata": {},
     "output_type": "execute_result"
    }
   ],
   "source": [
    "..."
   ]
  },
  {
   "cell_type": "code",
   "execution_count": 56,
   "metadata": {
    "tags": []
   },
   "outputs": [
    {
     "data": {
      "text/plain": [
       "Ellipsis"
      ]
     },
     "execution_count": 56,
     "metadata": {},
     "output_type": "execute_result"
    }
   ],
   "source": [
    "..."
   ]
  },
  {
   "cell_type": "code",
   "execution_count": 57,
   "metadata": {
    "tags": []
   },
   "outputs": [
    {
     "data": {
      "text/plain": [
       "Ellipsis"
      ]
     },
     "execution_count": 57,
     "metadata": {},
     "output_type": "execute_result"
    }
   ],
   "source": [
    "..."
   ]
  },
  {
   "cell_type": "code",
   "execution_count": 58,
   "metadata": {
    "tags": []
   },
   "outputs": [
    {
     "data": {
      "text/plain": [
       "Ellipsis"
      ]
     },
     "execution_count": 58,
     "metadata": {},
     "output_type": "execute_result"
    }
   ],
   "source": [
    "..."
   ]
  },
  {
   "cell_type": "code",
   "execution_count": 59,
   "metadata": {
    "tags": []
   },
   "outputs": [
    {
     "data": {
      "text/plain": [
       "Ellipsis"
      ]
     },
     "execution_count": 59,
     "metadata": {},
     "output_type": "execute_result"
    }
   ],
   "source": [
    "..."
   ]
  },
  {
   "cell_type": "markdown",
   "metadata": {
    "deletable": false,
    "editable": false
   },
   "source": [
    "<!-- END QUESTION -->\n",
    "\n",
    "<!-- BEGIN QUESTION -->\n",
    "\n",
    "<div class=\"alert alert-info\">\n",
    "\n",
    "## 11. Interpretation and feature importances <a name=\"1\"></a>\n",
    "rubric={accuracy,reasoning}\n",
    "\n",
    "**Your tasks:**\n",
    "\n",
    "1. Use the methods we saw in class (e.g., `permutation_importance` or `shap`) (or any other methods of your choice) to examine the most important features of one of the non-linear models. \n",
    "2. Summarize your observations. \n",
    "    \n",
    "</div>\n",
    "\n",
    "_Points:_ 8"
   ]
  },
  {
   "cell_type": "markdown",
   "metadata": {},
   "source": [
    "_Type your answer here, replacing this text._"
   ]
  },
  {
   "cell_type": "code",
   "execution_count": 60,
   "metadata": {
    "tags": []
   },
   "outputs": [
    {
     "data": {
      "text/plain": [
       "Ellipsis"
      ]
     },
     "execution_count": 60,
     "metadata": {},
     "output_type": "execute_result"
    }
   ],
   "source": [
    "..."
   ]
  },
  {
   "cell_type": "code",
   "execution_count": 61,
   "metadata": {
    "tags": []
   },
   "outputs": [
    {
     "data": {
      "text/plain": [
       "Ellipsis"
      ]
     },
     "execution_count": 61,
     "metadata": {},
     "output_type": "execute_result"
    }
   ],
   "source": [
    "..."
   ]
  },
  {
   "cell_type": "code",
   "execution_count": 62,
   "metadata": {
    "tags": []
   },
   "outputs": [
    {
     "data": {
      "text/plain": [
       "Ellipsis"
      ]
     },
     "execution_count": 62,
     "metadata": {},
     "output_type": "execute_result"
    }
   ],
   "source": [
    "..."
   ]
  },
  {
   "cell_type": "code",
   "execution_count": 63,
   "metadata": {
    "tags": []
   },
   "outputs": [
    {
     "data": {
      "text/plain": [
       "Ellipsis"
      ]
     },
     "execution_count": 63,
     "metadata": {},
     "output_type": "execute_result"
    }
   ],
   "source": [
    "..."
   ]
  },
  {
   "cell_type": "markdown",
   "metadata": {
    "deletable": false,
    "editable": false
   },
   "source": [
    "<!-- END QUESTION -->\n",
    "\n",
    "<!-- BEGIN QUESTION -->\n",
    "\n",
    "<div class=\"alert alert-info\">\n",
    "\n",
    "## 12. Results on the test set <a name=\"12\"></a>\n",
    "rubric={accuracy,reasoning}\n",
    "\n",
    "**Your tasks:**\n",
    "\n",
    "1. Try your best performing model on the test data and report test scores. \n",
    "2. Do the test scores agree with the validation scores from before? To what extent do you trust your results? Do you think you've had issues with optimization bias? \n",
    "3. Take one or two test predictions and explain them with SHAP force plots.  \n",
    "    \n",
    "</div>\n",
    "\n",
    "_Points:_ 6"
   ]
  },
  {
   "cell_type": "markdown",
   "metadata": {},
   "source": [
    "_Type your answer here, replacing this text._"
   ]
  },
  {
   "cell_type": "code",
   "execution_count": 64,
   "metadata": {
    "tags": []
   },
   "outputs": [
    {
     "data": {
      "text/plain": [
       "Ellipsis"
      ]
     },
     "execution_count": 64,
     "metadata": {},
     "output_type": "execute_result"
    }
   ],
   "source": [
    "..."
   ]
  },
  {
   "cell_type": "code",
   "execution_count": 65,
   "metadata": {
    "tags": []
   },
   "outputs": [
    {
     "data": {
      "text/plain": [
       "Ellipsis"
      ]
     },
     "execution_count": 65,
     "metadata": {},
     "output_type": "execute_result"
    }
   ],
   "source": [
    "..."
   ]
  },
  {
   "cell_type": "code",
   "execution_count": 66,
   "metadata": {
    "tags": []
   },
   "outputs": [
    {
     "data": {
      "text/plain": [
       "Ellipsis"
      ]
     },
     "execution_count": 66,
     "metadata": {},
     "output_type": "execute_result"
    }
   ],
   "source": [
    "..."
   ]
  },
  {
   "cell_type": "code",
   "execution_count": 67,
   "metadata": {
    "tags": []
   },
   "outputs": [
    {
     "data": {
      "text/plain": [
       "Ellipsis"
      ]
     },
     "execution_count": 67,
     "metadata": {},
     "output_type": "execute_result"
    }
   ],
   "source": [
    "..."
   ]
  },
  {
   "cell_type": "code",
   "execution_count": 68,
   "metadata": {
    "tags": []
   },
   "outputs": [
    {
     "data": {
      "text/plain": [
       "Ellipsis"
      ]
     },
     "execution_count": 68,
     "metadata": {},
     "output_type": "execute_result"
    }
   ],
   "source": [
    "..."
   ]
  },
  {
   "cell_type": "code",
   "execution_count": 69,
   "metadata": {
    "tags": []
   },
   "outputs": [
    {
     "data": {
      "text/plain": [
       "Ellipsis"
      ]
     },
     "execution_count": 69,
     "metadata": {},
     "output_type": "execute_result"
    }
   ],
   "source": [
    "..."
   ]
  },
  {
   "cell_type": "markdown",
   "metadata": {
    "deletable": false,
    "editable": false
   },
   "source": [
    "<!-- END QUESTION -->\n",
    "\n",
    "<!-- BEGIN QUESTION -->\n",
    "\n",
    "<div class=\"alert alert-info\">\n",
    "\n",
    "## 13. Summary of results <a name=\"13\"></a>\n",
    "rubric={reasoning}\n",
    "\n",
    "Imagine that you want to present the summary of these results to your boss and co-workers. \n",
    "\n",
    "**Your tasks:**\n",
    "\n",
    "1. Create a table summarizing important results. \n",
    "2. Write concluding remarks.\n",
    "3. Discuss other ideas that you did not try but could potentially improve the performance/interpretability . \n",
    "3. Report your final test score along with the metric you used at the top of this notebook.\n",
    "    \n",
    "</div>\n",
    "\n",
    "_Points:_ 8"
   ]
  },
  {
   "cell_type": "markdown",
   "metadata": {},
   "source": [
    "_Type your answer here, replacing this text._"
   ]
  },
  {
   "cell_type": "code",
   "execution_count": 70,
   "metadata": {
    "tags": []
   },
   "outputs": [
    {
     "data": {
      "text/plain": [
       "Ellipsis"
      ]
     },
     "execution_count": 70,
     "metadata": {},
     "output_type": "execute_result"
    }
   ],
   "source": [
    "..."
   ]
  },
  {
   "cell_type": "markdown",
   "metadata": {
    "deletable": false,
    "editable": false
   },
   "source": [
    "<!-- END QUESTION -->\n",
    "\n",
    "<!-- BEGIN QUESTION -->\n",
    "\n",
    "<div class=\"alert alert-warning\">\n",
    "\n",
    "## 14. Creating a data analysis pipeline (Challenging)\n",
    "rubric={reasoning}\n",
    "\n",
    "**Your tasks:**\n",
    "\n",
    "- Convert this notebook into scripts to create a reproducible data analysis pipeline with appropriate documentation. Submit your project folder in addition to this notebook on GitHub and briefly comment on your organization in the text box below.\n",
    "    \n",
    "</div>\n",
    "\n",
    "_Points:_ 2"
   ]
  },
  {
   "cell_type": "markdown",
   "metadata": {},
   "source": [
    "_Type your answer here, replacing this text._"
   ]
  },
  {
   "cell_type": "markdown",
   "metadata": {
    "deletable": false,
    "editable": false
   },
   "source": [
    "<!-- END QUESTION -->\n",
    "\n",
    "<!-- BEGIN QUESTION -->\n",
    "\n",
    "<div class=\"alert alert-warning\">\n",
    "\n",
    "## 15. Your takeaway from the course (Challenging)\n",
    "rubric={reasoning}\n",
    "\n",
    "**Your tasks:**\n",
    "\n",
    "What is your biggest takeaway from this course? \n",
    "    \n",
    "</div>\n",
    "\n",
    "_Points:_ 0.25"
   ]
  },
  {
   "cell_type": "markdown",
   "metadata": {},
   "source": [
    "_Type your answer here, replacing this text._"
   ]
  },
  {
   "cell_type": "markdown",
   "metadata": {
    "deletable": false,
    "editable": false
   },
   "source": [
    "<!-- END QUESTION -->\n",
    "\n",
    "<div class=\"alert alert-danger\" style=\"color:black\">\n",
    "    \n",
    "**Restart, run all and export a PDF before submitting**\n",
    "    \n",
    "Before submitting,\n",
    "don't forget to run all cells in your notebook\n",
    "to make sure there are no errors\n",
    "and so that the TAs can see your plots on Gradescope.\n",
    "You can do this by clicking the ▶▶ button\n",
    "or going to `Kernel -> Restart Kernel and Run All Cells...` in the menu.\n",
    "This is not only important for MDS,\n",
    "but a good habit you should get into before ever committing a notebook to GitHub,\n",
    "so that your collaborators can run it from top to bottom\n",
    "without issues.\n",
    "    \n",
    "After running all the cells,\n",
    "export a PDF of the notebook (preferably the WebPDF export)\n",
    "and upload this PDF together with the ipynb file to Gradescope\n",
    "(you can select two files when uploading to Gradescope)\n",
    "</div>"
   ]
  },
  {
   "cell_type": "markdown",
   "metadata": {
    "tags": [
     "feedback"
    ]
   },
   "source": [
    "---\n",
    "\n",
    "## Help us improve the labs\n",
    "\n",
    "The MDS program is continually looking to improve our courses, including lab questions and content. The following optional questions will not affect your grade in any way nor will they be used for anything other than program improvement:\n",
    "\n",
    "1. Approximately how many hours did you spend working or thinking about this assignment (including lab time)?\n",
    "\n",
    "#Ans:\n",
    "\n",
    "2. Do you have any feedback on the lab you be willing to share? For example, any part or question that you particularly liked or disliked?\n",
    "\n",
    "#Ans:"
   ]
  }
 ],
 "metadata": {
  "kernelspec": {
   "display_name": "573",
   "language": "python",
   "name": "python3"
  },
  "language_info": {
   "codemirror_mode": {
    "name": "ipython",
    "version": 3
   },
   "file_extension": ".py",
   "mimetype": "text/x-python",
   "name": "python",
   "nbconvert_exporter": "python",
   "pygments_lexer": "ipython3",
   "version": "3.12.7"
  },
  "otter": {
   "OK_FORMAT": true,
   "tests": {}
  }
 },
 "nbformat": 4,
 "nbformat_minor": 4
}
